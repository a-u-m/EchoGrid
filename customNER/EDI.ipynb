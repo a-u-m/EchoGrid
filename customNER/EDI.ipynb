{
  "cells": [
    {
      "cell_type": "code",
      "execution_count": 1,
      "metadata": {
        "id": "7dqWS4VozD-9"
      },
      "outputs": [],
      "source": [
        "import spacy\n",
        "from spacy.tokens import DocBin\n",
        "from tqdm import tqdm\n",
        "\n",
        "nlp = spacy.blank(\"en\") # load a new spacy model\n",
        "db = DocBin() # create a DocBin object"
      ]
    },
    {
      "cell_type": "code",
      "execution_count": 4,
      "metadata": {},
      "outputs": [
        {
          "name": "stdout",
          "output_type": "stream",
          "text": [
            "Collecting en-core-web-sm==3.7.1\n",
            "  Downloading https://github.com/explosion/spacy-models/releases/download/en_core_web_sm-3.7.1/en_core_web_sm-3.7.1-py3-none-any.whl (12.8 MB)\n",
            "     ---------------------------------------- 12.8/12.8 MB 3.1 MB/s eta 0:00:00\n",
            "Requirement already satisfied: spacy<3.8.0,>=3.7.2 in c:\\users\\divjh\\appdata\\local\\programs\\python\\python310\\lib\\site-packages (from en-core-web-sm==3.7.1) (3.7.2)\n",
            "Requirement already satisfied: langcodes<4.0.0,>=3.2.0 in c:\\users\\divjh\\appdata\\local\\programs\\python\\python310\\lib\\site-packages (from spacy<3.8.0,>=3.7.2->en-core-web-sm==3.7.1) (3.3.0)\n",
            "Requirement already satisfied: packaging>=20.0 in c:\\users\\divjh\\appdata\\local\\programs\\python\\python310\\lib\\site-packages (from spacy<3.8.0,>=3.7.2->en-core-web-sm==3.7.1) (21.3)\n",
            "Requirement already satisfied: spacy-loggers<2.0.0,>=1.0.0 in c:\\users\\divjh\\appdata\\local\\programs\\python\\python310\\lib\\site-packages (from spacy<3.8.0,>=3.7.2->en-core-web-sm==3.7.1) (1.0.5)\n",
            "Requirement already satisfied: murmurhash<1.1.0,>=0.28.0 in c:\\users\\divjh\\appdata\\local\\programs\\python\\python310\\lib\\site-packages (from spacy<3.8.0,>=3.7.2->en-core-web-sm==3.7.1) (1.0.10)\n",
            "Requirement already satisfied: requests<3.0.0,>=2.13.0 in c:\\users\\divjh\\appdata\\local\\programs\\python\\python310\\lib\\site-packages (from spacy<3.8.0,>=3.7.2->en-core-web-sm==3.7.1) (2.31.0)\n",
            "Requirement already satisfied: srsly<3.0.0,>=2.4.3 in c:\\users\\divjh\\appdata\\local\\programs\\python\\python310\\lib\\site-packages (from spacy<3.8.0,>=3.7.2->en-core-web-sm==3.7.1) (2.4.8)\n",
            "Requirement already satisfied: preshed<3.1.0,>=3.0.2 in c:\\users\\divjh\\appdata\\local\\programs\\python\\python310\\lib\\site-packages (from spacy<3.8.0,>=3.7.2->en-core-web-sm==3.7.1) (3.0.9)\n",
            "Requirement already satisfied: cymem<2.1.0,>=2.0.2 in c:\\users\\divjh\\appdata\\local\\programs\\python\\python310\\lib\\site-packages (from spacy<3.8.0,>=3.7.2->en-core-web-sm==3.7.1) (2.0.8)\n",
            "Requirement already satisfied: tqdm<5.0.0,>=4.38.0 in c:\\users\\divjh\\appdata\\local\\programs\\python\\python310\\lib\\site-packages (from spacy<3.8.0,>=3.7.2->en-core-web-sm==3.7.1) (4.66.1)\n",
            "Requirement already satisfied: jinja2 in c:\\users\\divjh\\appdata\\local\\programs\\python\\python310\\lib\\site-packages (from spacy<3.8.0,>=3.7.2->en-core-web-sm==3.7.1) (3.1.2)\n",
            "Requirement already satisfied: typer<0.10.0,>=0.3.0 in c:\\users\\divjh\\appdata\\local\\programs\\python\\python310\\lib\\site-packages (from spacy<3.8.0,>=3.7.2->en-core-web-sm==3.7.1) (0.9.0)\n",
            "Requirement already satisfied: setuptools in c:\\users\\divjh\\appdata\\local\\programs\\python\\python310\\lib\\site-packages (from spacy<3.8.0,>=3.7.2->en-core-web-sm==3.7.1) (63.2.0)\n",
            "Requirement already satisfied: spacy-legacy<3.1.0,>=3.0.11 in c:\\users\\divjh\\appdata\\local\\programs\\python\\python310\\lib\\site-packages (from spacy<3.8.0,>=3.7.2->en-core-web-sm==3.7.1) (3.0.12)\n",
            "Requirement already satisfied: thinc<8.3.0,>=8.1.8 in c:\\users\\divjh\\appdata\\local\\programs\\python\\python310\\lib\\site-packages (from spacy<3.8.0,>=3.7.2->en-core-web-sm==3.7.1) (8.2.1)\n",
            "Requirement already satisfied: catalogue<2.1.0,>=2.0.6 in c:\\users\\divjh\\appdata\\local\\programs\\python\\python310\\lib\\site-packages (from spacy<3.8.0,>=3.7.2->en-core-web-sm==3.7.1) (2.0.10)\n",
            "Requirement already satisfied: weasel<0.4.0,>=0.1.0 in c:\\users\\divjh\\appdata\\local\\programs\\python\\python310\\lib\\site-packages (from spacy<3.8.0,>=3.7.2->en-core-web-sm==3.7.1) (0.3.3)\n",
            "Requirement already satisfied: smart-open<7.0.0,>=5.2.1 in c:\\users\\divjh\\appdata\\local\\programs\\python\\python310\\lib\\site-packages (from spacy<3.8.0,>=3.7.2->en-core-web-sm==3.7.1) (6.4.0)\n",
            "Requirement already satisfied: pydantic!=1.8,!=1.8.1,<3.0.0,>=1.7.4 in c:\\users\\divjh\\appdata\\local\\programs\\python\\python310\\lib\\site-packages (from spacy<3.8.0,>=3.7.2->en-core-web-sm==3.7.1) (2.4.2)\n",
            "Requirement already satisfied: numpy>=1.19.0 in c:\\users\\divjh\\appdata\\local\\programs\\python\\python310\\lib\\site-packages (from spacy<3.8.0,>=3.7.2->en-core-web-sm==3.7.1) (1.23.2)\n",
            "Requirement already satisfied: wasabi<1.2.0,>=0.9.1 in c:\\users\\divjh\\appdata\\local\\programs\\python\\python310\\lib\\site-packages (from spacy<3.8.0,>=3.7.2->en-core-web-sm==3.7.1) (1.1.2)\n",
            "Requirement already satisfied: pyparsing!=3.0.5,>=2.0.2 in c:\\users\\divjh\\appdata\\local\\programs\\python\\python310\\lib\\site-packages (from packaging>=20.0->spacy<3.8.0,>=3.7.2->en-core-web-sm==3.7.1) (3.0.9)\n",
            "Requirement already satisfied: annotated-types>=0.4.0 in c:\\users\\divjh\\appdata\\local\\programs\\python\\python310\\lib\\site-packages (from pydantic!=1.8,!=1.8.1,<3.0.0,>=1.7.4->spacy<3.8.0,>=3.7.2->en-core-web-sm==3.7.1) (0.6.0)\n",
            "Requirement already satisfied: typing-extensions>=4.6.1 in c:\\users\\divjh\\appdata\\local\\programs\\python\\python310\\lib\\site-packages (from pydantic!=1.8,!=1.8.1,<3.0.0,>=1.7.4->spacy<3.8.0,>=3.7.2->en-core-web-sm==3.7.1) (4.7.1)\n",
            "Requirement already satisfied: pydantic-core==2.10.1 in c:\\users\\divjh\\appdata\\local\\programs\\python\\python310\\lib\\site-packages (from pydantic!=1.8,!=1.8.1,<3.0.0,>=1.7.4->spacy<3.8.0,>=3.7.2->en-core-web-sm==3.7.1) (2.10.1)\n",
            "Requirement already satisfied: charset-normalizer<4,>=2 in c:\\users\\divjh\\appdata\\local\\programs\\python\\python310\\lib\\site-packages (from requests<3.0.0,>=2.13.0->spacy<3.8.0,>=3.7.2->en-core-web-sm==3.7.1) (3.3.1)\n",
            "Requirement already satisfied: urllib3<3,>=1.21.1 in c:\\users\\divjh\\appdata\\local\\programs\\python\\python310\\lib\\site-packages (from requests<3.0.0,>=2.13.0->spacy<3.8.0,>=3.7.2->en-core-web-sm==3.7.1) (2.0.7)\n",
            "Requirement already satisfied: certifi>=2017.4.17 in c:\\users\\divjh\\appdata\\local\\programs\\python\\python310\\lib\\site-packages (from requests<3.0.0,>=2.13.0->spacy<3.8.0,>=3.7.2->en-core-web-sm==3.7.1) (2023.7.22)\n",
            "Requirement already satisfied: idna<4,>=2.5 in c:\\users\\divjh\\appdata\\local\\programs\\python\\python310\\lib\\site-packages (from requests<3.0.0,>=2.13.0->spacy<3.8.0,>=3.7.2->en-core-web-sm==3.7.1) (3.4)\n",
            "Requirement already satisfied: confection<1.0.0,>=0.0.1 in c:\\users\\divjh\\appdata\\local\\programs\\python\\python310\\lib\\site-packages (from thinc<8.3.0,>=8.1.8->spacy<3.8.0,>=3.7.2->en-core-web-sm==3.7.1) (0.1.3)\n",
            "Requirement already satisfied: blis<0.8.0,>=0.7.8 in c:\\users\\divjh\\appdata\\local\\programs\\python\\python310\\lib\\site-packages (from thinc<8.3.0,>=8.1.8->spacy<3.8.0,>=3.7.2->en-core-web-sm==3.7.1) (0.7.11)\n",
            "Requirement already satisfied: colorama in c:\\users\\divjh\\appdata\\local\\programs\\python\\python310\\lib\\site-packages (from tqdm<5.0.0,>=4.38.0->spacy<3.8.0,>=3.7.2->en-core-web-sm==3.7.1) (0.4.6)\n",
            "Requirement already satisfied: click<9.0.0,>=7.1.1 in c:\\users\\divjh\\appdata\\local\\programs\\python\\python310\\lib\\site-packages (from typer<0.10.0,>=0.3.0->spacy<3.8.0,>=3.7.2->en-core-web-sm==3.7.1) (8.1.7)\n",
            "Requirement already satisfied: cloudpathlib<0.17.0,>=0.7.0 in c:\\users\\divjh\\appdata\\local\\programs\\python\\python310\\lib\\site-packages (from weasel<0.4.0,>=0.1.0->spacy<3.8.0,>=3.7.2->en-core-web-sm==3.7.1) (0.16.0)\n",
            "Requirement already satisfied: MarkupSafe>=2.0 in c:\\users\\divjh\\appdata\\local\\programs\\python\\python310\\lib\\site-packages (from jinja2->spacy<3.8.0,>=3.7.2->en-core-web-sm==3.7.1) (2.1.1)\n",
            "Installing collected packages: en-core-web-sm\n",
            "Successfully installed en-core-web-sm-3.7.1\n",
            "\u001b[38;5;2m✔ Download and installation successful\u001b[0m\n",
            "You can now load the package via spacy.load('en_core_web_sm')\n"
          ]
        },
        {
          "name": "stderr",
          "output_type": "stream",
          "text": [
            "\n",
            "[notice] A new release of pip available: 22.3.1 -> 23.3.1\n",
            "[notice] To update, run: python.exe -m pip install --upgrade pip\n"
          ]
        }
      ],
      "source": [
        "!python -m spacy download en_core_web_sm"
      ]
    },
    {
      "cell_type": "code",
      "execution_count": 5,
      "metadata": {},
      "outputs": [],
      "source": [
        "model = spacy.load(\"en_core_web_sm\")"
      ]
    },
    {
      "cell_type": "code",
      "execution_count": 6,
      "metadata": {},
      "outputs": [
        {
          "data": {
            "text/plain": [
              "WindowsPath('c:/Users/divjh/AppData/Local/Programs/Python/Python310/lib/site-packages/en_core_web_sm/en_core_web_sm-3.7.1')"
            ]
          },
          "execution_count": 6,
          "metadata": {},
          "output_type": "execute_result"
        }
      ],
      "source": [
        "model._path"
      ]
    },
    {
      "cell_type": "markdown",
      "metadata": {
        "id": "_Ofwgj4eTIwT"
      },
      "source": [
        "# New Section"
      ]
    },
    {
      "cell_type": "code",
      "execution_count": 7,
      "metadata": {
        "colab": {
          "base_uri": "https://localhost:8080/"
        },
        "id": "--aCr9ZazlVG",
        "outputId": "ff6fae65-053a-41ef-fbdf-9c75c8f4a1a6"
      },
      "outputs": [
        {
          "name": "stdout",
          "output_type": "stream",
          "text": [
            "Collecting en-core-web-lg==3.7.1\n",
            "  Downloading https://github.com/explosion/spacy-models/releases/download/en_core_web_lg-3.7.1/en_core_web_lg-3.7.1-py3-none-any.whl (587.7 MB)\n",
            "     -------------------------------------- 587.7/587.7 MB 1.2 MB/s eta 0:00:00\n",
            "Requirement already satisfied: spacy<3.8.0,>=3.7.2 in c:\\users\\divjh\\appdata\\local\\programs\\python\\python310\\lib\\site-packages (from en-core-web-lg==3.7.1) (3.7.2)\n",
            "Requirement already satisfied: wasabi<1.2.0,>=0.9.1 in c:\\users\\divjh\\appdata\\local\\programs\\python\\python310\\lib\\site-packages (from spacy<3.8.0,>=3.7.2->en-core-web-lg==3.7.1) (1.1.2)\n",
            "Requirement already satisfied: langcodes<4.0.0,>=3.2.0 in c:\\users\\divjh\\appdata\\local\\programs\\python\\python310\\lib\\site-packages (from spacy<3.8.0,>=3.7.2->en-core-web-lg==3.7.1) (3.3.0)\n",
            "Requirement already satisfied: murmurhash<1.1.0,>=0.28.0 in c:\\users\\divjh\\appdata\\local\\programs\\python\\python310\\lib\\site-packages (from spacy<3.8.0,>=3.7.2->en-core-web-lg==3.7.1) (1.0.10)\n",
            "Requirement already satisfied: weasel<0.4.0,>=0.1.0 in c:\\users\\divjh\\appdata\\local\\programs\\python\\python310\\lib\\site-packages (from spacy<3.8.0,>=3.7.2->en-core-web-lg==3.7.1) (0.3.3)\n",
            "Requirement already satisfied: spacy-loggers<2.0.0,>=1.0.0 in c:\\users\\divjh\\appdata\\local\\programs\\python\\python310\\lib\\site-packages (from spacy<3.8.0,>=3.7.2->en-core-web-lg==3.7.1) (1.0.5)\n",
            "Requirement already satisfied: smart-open<7.0.0,>=5.2.1 in c:\\users\\divjh\\appdata\\local\\programs\\python\\python310\\lib\\site-packages (from spacy<3.8.0,>=3.7.2->en-core-web-lg==3.7.1) (6.4.0)\n",
            "Requirement already satisfied: cymem<2.1.0,>=2.0.2 in c:\\users\\divjh\\appdata\\local\\programs\\python\\python310\\lib\\site-packages (from spacy<3.8.0,>=3.7.2->en-core-web-lg==3.7.1) (2.0.8)\n",
            "Requirement already satisfied: typer<0.10.0,>=0.3.0 in c:\\users\\divjh\\appdata\\local\\programs\\python\\python310\\lib\\site-packages (from spacy<3.8.0,>=3.7.2->en-core-web-lg==3.7.1) (0.9.0)\n",
            "Requirement already satisfied: packaging>=20.0 in c:\\users\\divjh\\appdata\\local\\programs\\python\\python310\\lib\\site-packages (from spacy<3.8.0,>=3.7.2->en-core-web-lg==3.7.1) (21.3)\n",
            "Requirement already satisfied: setuptools in c:\\users\\divjh\\appdata\\local\\programs\\python\\python310\\lib\\site-packages (from spacy<3.8.0,>=3.7.2->en-core-web-lg==3.7.1) (63.2.0)\n",
            "Requirement already satisfied: thinc<8.3.0,>=8.1.8 in c:\\users\\divjh\\appdata\\local\\programs\\python\\python310\\lib\\site-packages (from spacy<3.8.0,>=3.7.2->en-core-web-lg==3.7.1) (8.2.1)\n",
            "Requirement already satisfied: requests<3.0.0,>=2.13.0 in c:\\users\\divjh\\appdata\\local\\programs\\python\\python310\\lib\\site-packages (from spacy<3.8.0,>=3.7.2->en-core-web-lg==3.7.1) (2.31.0)\n",
            "Requirement already satisfied: jinja2 in c:\\users\\divjh\\appdata\\local\\programs\\python\\python310\\lib\\site-packages (from spacy<3.8.0,>=3.7.2->en-core-web-lg==3.7.1) (3.1.2)\n",
            "Requirement already satisfied: srsly<3.0.0,>=2.4.3 in c:\\users\\divjh\\appdata\\local\\programs\\python\\python310\\lib\\site-packages (from spacy<3.8.0,>=3.7.2->en-core-web-lg==3.7.1) (2.4.8)\n",
            "Requirement already satisfied: preshed<3.1.0,>=3.0.2 in c:\\users\\divjh\\appdata\\local\\programs\\python\\python310\\lib\\site-packages (from spacy<3.8.0,>=3.7.2->en-core-web-lg==3.7.1) (3.0.9)\n",
            "Requirement already satisfied: tqdm<5.0.0,>=4.38.0 in c:\\users\\divjh\\appdata\\local\\programs\\python\\python310\\lib\\site-packages (from spacy<3.8.0,>=3.7.2->en-core-web-lg==3.7.1) (4.66.1)\n",
            "Requirement already satisfied: numpy>=1.19.0 in c:\\users\\divjh\\appdata\\local\\programs\\python\\python310\\lib\\site-packages (from spacy<3.8.0,>=3.7.2->en-core-web-lg==3.7.1) (1.23.2)\n",
            "Requirement already satisfied: pydantic!=1.8,!=1.8.1,<3.0.0,>=1.7.4 in c:\\users\\divjh\\appdata\\local\\programs\\python\\python310\\lib\\site-packages (from spacy<3.8.0,>=3.7.2->en-core-web-lg==3.7.1) (2.4.2)\n",
            "Requirement already satisfied: catalogue<2.1.0,>=2.0.6 in c:\\users\\divjh\\appdata\\local\\programs\\python\\python310\\lib\\site-packages (from spacy<3.8.0,>=3.7.2->en-core-web-lg==3.7.1) (2.0.10)\n",
            "Requirement already satisfied: spacy-legacy<3.1.0,>=3.0.11 in c:\\users\\divjh\\appdata\\local\\programs\\python\\python310\\lib\\site-packages (from spacy<3.8.0,>=3.7.2->en-core-web-lg==3.7.1) (3.0.12)\n",
            "Requirement already satisfied: pyparsing!=3.0.5,>=2.0.2 in c:\\users\\divjh\\appdata\\local\\programs\\python\\python310\\lib\\site-packages (from packaging>=20.0->spacy<3.8.0,>=3.7.2->en-core-web-lg==3.7.1) (3.0.9)\n",
            "Requirement already satisfied: annotated-types>=0.4.0 in c:\\users\\divjh\\appdata\\local\\programs\\python\\python310\\lib\\site-packages (from pydantic!=1.8,!=1.8.1,<3.0.0,>=1.7.4->spacy<3.8.0,>=3.7.2->en-core-web-lg==3.7.1) (0.6.0)\n",
            "Requirement already satisfied: typing-extensions>=4.6.1 in c:\\users\\divjh\\appdata\\local\\programs\\python\\python310\\lib\\site-packages (from pydantic!=1.8,!=1.8.1,<3.0.0,>=1.7.4->spacy<3.8.0,>=3.7.2->en-core-web-lg==3.7.1) (4.7.1)\n",
            "Requirement already satisfied: pydantic-core==2.10.1 in c:\\users\\divjh\\appdata\\local\\programs\\python\\python310\\lib\\site-packages (from pydantic!=1.8,!=1.8.1,<3.0.0,>=1.7.4->spacy<3.8.0,>=3.7.2->en-core-web-lg==3.7.1) (2.10.1)\n",
            "Requirement already satisfied: idna<4,>=2.5 in c:\\users\\divjh\\appdata\\local\\programs\\python\\python310\\lib\\site-packages (from requests<3.0.0,>=2.13.0->spacy<3.8.0,>=3.7.2->en-core-web-lg==3.7.1) (3.4)\n",
            "Requirement already satisfied: urllib3<3,>=1.21.1 in c:\\users\\divjh\\appdata\\local\\programs\\python\\python310\\lib\\site-packages (from requests<3.0.0,>=2.13.0->spacy<3.8.0,>=3.7.2->en-core-web-lg==3.7.1) (2.0.7)\n",
            "Requirement already satisfied: charset-normalizer<4,>=2 in c:\\users\\divjh\\appdata\\local\\programs\\python\\python310\\lib\\site-packages (from requests<3.0.0,>=2.13.0->spacy<3.8.0,>=3.7.2->en-core-web-lg==3.7.1) (3.3.1)\n",
            "Requirement already satisfied: certifi>=2017.4.17 in c:\\users\\divjh\\appdata\\local\\programs\\python\\python310\\lib\\site-packages (from requests<3.0.0,>=2.13.0->spacy<3.8.0,>=3.7.2->en-core-web-lg==3.7.1) (2023.7.22)\n",
            "Requirement already satisfied: blis<0.8.0,>=0.7.8 in c:\\users\\divjh\\appdata\\local\\programs\\python\\python310\\lib\\site-packages (from thinc<8.3.0,>=8.1.8->spacy<3.8.0,>=3.7.2->en-core-web-lg==3.7.1) (0.7.11)\n",
            "Requirement already satisfied: confection<1.0.0,>=0.0.1 in c:\\users\\divjh\\appdata\\local\\programs\\python\\python310\\lib\\site-packages (from thinc<8.3.0,>=8.1.8->spacy<3.8.0,>=3.7.2->en-core-web-lg==3.7.1) (0.1.3)\n",
            "Requirement already satisfied: colorama in c:\\users\\divjh\\appdata\\local\\programs\\python\\python310\\lib\\site-packages (from tqdm<5.0.0,>=4.38.0->spacy<3.8.0,>=3.7.2->en-core-web-lg==3.7.1) (0.4.6)\n",
            "Requirement already satisfied: click<9.0.0,>=7.1.1 in c:\\users\\divjh\\appdata\\local\\programs\\python\\python310\\lib\\site-packages (from typer<0.10.0,>=0.3.0->spacy<3.8.0,>=3.7.2->en-core-web-lg==3.7.1) (8.1.7)\n",
            "Requirement already satisfied: cloudpathlib<0.17.0,>=0.7.0 in c:\\users\\divjh\\appdata\\local\\programs\\python\\python310\\lib\\site-packages (from weasel<0.4.0,>=0.1.0->spacy<3.8.0,>=3.7.2->en-core-web-lg==3.7.1) (0.16.0)\n",
            "Requirement already satisfied: MarkupSafe>=2.0 in c:\\users\\divjh\\appdata\\local\\programs\\python\\python310\\lib\\site-packages (from jinja2->spacy<3.8.0,>=3.7.2->en-core-web-lg==3.7.1) (2.1.1)\n",
            "Installing collected packages: en-core-web-lg\n",
            "Successfully installed en-core-web-lg-3.7.1\n",
            "\u001b[38;5;2m✔ Download and installation successful\u001b[0m\n",
            "You can now load the package via spacy.load('en_core_web_lg')\n"
          ]
        },
        {
          "name": "stderr",
          "output_type": "stream",
          "text": [
            "\n",
            "[notice] A new release of pip available: 22.3.1 -> 23.3.1\n",
            "[notice] To update, run: python.exe -m pip install --upgrade pip\n"
          ]
        }
      ],
      "source": [
        "!python -m spacy download en_core_web_lg"
      ]
    },
    {
      "cell_type": "code",
      "execution_count": 8,
      "metadata": {
        "id": "bYOlOX_QFI9u"
      },
      "outputs": [
        {
          "ename": "FileNotFoundError",
          "evalue": "[Errno 2] No such file or directory: 'D:\\\\VIT Third Year\\\\EDI\\\\EchoGrid\\\\customNER\\\\Datasets\\\\chart_dataset.json'",
          "output_type": "error",
          "traceback": [
            "\u001b[1;31m---------------------------------------------------------------------------\u001b[0m",
            "\u001b[1;31mFileNotFoundError\u001b[0m                         Traceback (most recent call last)",
            "\u001b[1;32md:\\EDI_5th_sem\\EchoGrid\\customNER\\EDI.ipynb Cell 7\u001b[0m line \u001b[0;36m2\n\u001b[0;32m      <a href='vscode-notebook-cell:/d%3A/EDI_5th_sem/EchoGrid/customNER/EDI.ipynb#W5sZmlsZQ%3D%3D?line=0'>1</a>\u001b[0m \u001b[39mimport\u001b[39;00m \u001b[39mjson\u001b[39;00m\n\u001b[1;32m----> <a href='vscode-notebook-cell:/d%3A/EDI_5th_sem/EchoGrid/customNER/EDI.ipynb#W5sZmlsZQ%3D%3D?line=1'>2</a>\u001b[0m f1 \u001b[39m=\u001b[39m \u001b[39mopen\u001b[39;49m(\u001b[39m'\u001b[39;49m\u001b[39mD:\u001b[39;49m\u001b[39m\\\u001b[39;49m\u001b[39mVIT Third Year\u001b[39;49m\u001b[39m\\\u001b[39;49m\u001b[39mEDI\u001b[39;49m\u001b[39m\\\u001b[39;49m\u001b[39mEchoGrid\u001b[39;49m\u001b[39m\\\u001b[39;49m\u001b[39mcustomNER\u001b[39;49m\u001b[39m\\\u001b[39;49m\u001b[39mDatasets\u001b[39;49m\u001b[39m\\\u001b[39;49m\u001b[39mchart_dataset.json\u001b[39;49m\u001b[39m'\u001b[39;49m)\n\u001b[0;32m      <a href='vscode-notebook-cell:/d%3A/EDI_5th_sem/EchoGrid/customNER/EDI.ipynb#W5sZmlsZQ%3D%3D?line=2'>3</a>\u001b[0m f2 \u001b[39m=\u001b[39m \u001b[39mopen\u001b[39m(\u001b[39m'\u001b[39m\u001b[39mD:\u001b[39m\u001b[39m\\\u001b[39m\u001b[39mVIT Third Year\u001b[39m\u001b[39m\\\u001b[39m\u001b[39mEDI\u001b[39m\u001b[39m\\\u001b[39m\u001b[39mEchoGrid\u001b[39m\u001b[39m\\\u001b[39m\u001b[39mcustomNER\u001b[39m\u001b[39m\\\u001b[39m\u001b[39mDatasets\u001b[39m\u001b[39m\\\u001b[39m\u001b[39m_test_dataset.json\u001b[39m\u001b[39m'\u001b[39m)\n\u001b[0;32m      <a href='vscode-notebook-cell:/d%3A/EDI_5th_sem/EchoGrid/customNER/EDI.ipynb#W5sZmlsZQ%3D%3D?line=4'>5</a>\u001b[0m TRAIN_DATA \u001b[39m=\u001b[39m json\u001b[39m.\u001b[39mload(f1)\n",
            "File \u001b[1;32mc:\\Users\\divjh\\AppData\\Local\\Programs\\Python\\Python310\\lib\\site-packages\\IPython\\core\\interactiveshell.py:282\u001b[0m, in \u001b[0;36m_modified_open\u001b[1;34m(file, *args, **kwargs)\u001b[0m\n\u001b[0;32m    275\u001b[0m \u001b[39mif\u001b[39;00m file \u001b[39min\u001b[39;00m {\u001b[39m0\u001b[39m, \u001b[39m1\u001b[39m, \u001b[39m2\u001b[39m}:\n\u001b[0;32m    276\u001b[0m     \u001b[39mraise\u001b[39;00m \u001b[39mValueError\u001b[39;00m(\n\u001b[0;32m    277\u001b[0m         \u001b[39mf\u001b[39m\u001b[39m\"\u001b[39m\u001b[39mIPython won\u001b[39m\u001b[39m'\u001b[39m\u001b[39mt let you open fd=\u001b[39m\u001b[39m{\u001b[39;00mfile\u001b[39m}\u001b[39;00m\u001b[39m by default \u001b[39m\u001b[39m\"\u001b[39m\n\u001b[0;32m    278\u001b[0m         \u001b[39m\"\u001b[39m\u001b[39mas it is likely to crash IPython. If you know what you are doing, \u001b[39m\u001b[39m\"\u001b[39m\n\u001b[0;32m    279\u001b[0m         \u001b[39m\"\u001b[39m\u001b[39myou can use builtins\u001b[39m\u001b[39m'\u001b[39m\u001b[39m open.\u001b[39m\u001b[39m\"\u001b[39m\n\u001b[0;32m    280\u001b[0m     )\n\u001b[1;32m--> 282\u001b[0m \u001b[39mreturn\u001b[39;00m io_open(file, \u001b[39m*\u001b[39margs, \u001b[39m*\u001b[39m\u001b[39m*\u001b[39mkwargs)\n",
            "\u001b[1;31mFileNotFoundError\u001b[0m: [Errno 2] No such file or directory: 'D:\\\\VIT Third Year\\\\EDI\\\\EchoGrid\\\\customNER\\\\Datasets\\\\chart_dataset.json'"
          ]
        }
      ],
      "source": [
        "import json\n",
        "f1 = open('D:\\VIT Third Year\\EDI\\EchoGrid\\customNER\\Datasets\\chart_dataset.json')\n",
        "f2 = open('D:\\VIT Third Year\\EDI\\EchoGrid\\customNER\\Datasets\\_test_dataset.json')\n",
        "\n",
        "TRAIN_DATA = json.load(f1)\n",
        "TEST_DATA = json.load(f2)\n"
      ]
    },
    {
      "cell_type": "code",
      "execution_count": null,
      "metadata": {
        "colab": {
          "base_uri": "https://localhost:8080/"
        },
        "id": "pj6L8jyRFCW-",
        "outputId": "aa53421a-1850-4936-98be-f7680da34a35"
      },
      "outputs": [
        {
          "name": "stderr",
          "output_type": "stream",
          "text": [
            "100%|██████████| 60/60 [00:00<00:00, 15000.19it/s]\n"
          ]
        }
      ],
      "source": [
        "for text, annot in tqdm(TRAIN_DATA['annotations']):\n",
        "    doc = nlp.make_doc(text)\n",
        "    ents = []\n",
        "    for start, end, label in annot[\"entities\"]:\n",
        "        span = doc.char_span(start,end,label=label, alignment_mode=\"contract\")\n",
        "        if span is None:\n",
        "            print(\"Skipping entity\")\n",
        "        else:\n",
        "            ents.append(span)\n",
        "    doc.ents = ents\n",
        "    db.add(doc)\n",
        "db.to_disk(\"./chart.spacy\")"
      ]
    },
    {
      "cell_type": "code",
      "execution_count": null,
      "metadata": {
        "colab": {
          "base_uri": "https://localhost:8080/"
        },
        "id": "QfIpTmCZFCKo",
        "outputId": "62979cc3-8795-4b7c-9a11-6986c25c36aa"
      },
      "outputs": [
        {
          "name": "stderr",
          "output_type": "stream",
          "text": [
            "100%|██████████| 10/10 [00:00<00:00, 5004.54it/s]\n"
          ]
        }
      ],
      "source": [
        "for text, annot in tqdm(TEST_DATA['annotations']):\n",
        "    doc = nlp.make_doc(text)\n",
        "    ents = []\n",
        "    for start, end, label in annot[\"entities\"]:\n",
        "        span = doc.char_span(start,end,label=label, alignment_mode=\"contract\")\n",
        "        if span is None:\n",
        "            print(\"Skipping entity\")\n",
        "        else:\n",
        "            ents.append(span)\n",
        "    doc.ents = ents\n",
        "    db.add(doc)\n",
        "db.to_disk(\"./test_dataset.spacy\")"
      ]
    },
    {
      "cell_type": "code",
      "execution_count": null,
      "metadata": {
        "colab": {
          "base_uri": "https://localhost:8080/"
        },
        "id": "8Fy8m5Srza1n",
        "outputId": "c51a36e4-7127-4b30-f69f-8b5bc4c9bbe7"
      },
      "outputs": [
        {
          "name": "stdout",
          "output_type": "stream",
          "text": [
            "\u001b[38;5;4mℹ Saving to output directory: .\u001b[0m\n",
            "\u001b[38;5;4mℹ Using CPU\u001b[0m\n",
            "\u001b[1m\n",
            "=========================== Initializing pipeline ===========================\u001b[0m\n",
            "\u001b[38;5;2m✔ Initialized pipeline\u001b[0m\n",
            "\u001b[1m\n",
            "============================= Training pipeline =============================\u001b[0m\n",
            "\u001b[38;5;4mℹ Pipeline: ['tok2vec', 'ner']\u001b[0m\n",
            "\u001b[38;5;4mℹ Initial learn rate: 0.001\u001b[0m\n",
            "E    #       LOSS TOK2VEC  LOSS NER  ENTS_F  ENTS_P  ENTS_R  SCORE \n",
            "---  ------  ------------  --------  ------  ------  ------  ------\n",
            "  0       0          0.00     51.00    0.00    0.00    0.00    0.00\n",
            " 12     200          0.22    559.08   97.99  100.00   96.05    0.98\n",
            " 27     400          0.00      0.00   98.26  100.00   96.58    0.98\n",
            " 45     600          0.00      0.00   98.26  100.00   96.58    0.98\n",
            " 68     800          0.00      0.00   98.12  100.00   96.32    0.98\n",
            " 95    1000          0.00      0.00   98.12  100.00   96.32    0.98\n",
            "128    1200          0.00      0.00   98.12  100.00   96.32    0.98\n",
            "168    1400          0.00      0.00   98.12  100.00   96.32    0.98\n",
            "218    1600          0.00      0.00   98.12  100.00   96.32    0.98\n",
            "\u001b[38;5;3m⚠ Aborting and saving the final best model. Encountered exception:\n",
            "MemoryError((518, 1280), dtype('float32'))\u001b[0m\n"
          ]
        },
        {
          "name": "stderr",
          "output_type": "stream",
          "text": [
            "[2023-11-09 00:21:14,554] [WARNING] [W112] The model specified to use for initial vectors (en_core_web_sm) has no vectors. This is almost certainly a mistake.\n",
            "Traceback (most recent call last):\n",
            "  File \"c:\\Users\\Dhruv Thakkar\\AppData\\Local\\Programs\\Python\\Python311\\Lib\\site-packages\\spacy\\training\\loop.py\", line 135, in train\n",
            "    raise e\n",
            "  File \"c:\\Users\\Dhruv Thakkar\\AppData\\Local\\Programs\\Python\\Python311\\Lib\\site-packages\\spacy\\training\\loop.py\", line 118, in train\n",
            "    for batch, info, is_best_checkpoint in training_step_iterator:\n",
            "  File \"c:\\Users\\Dhruv Thakkar\\AppData\\Local\\Programs\\Python\\Python311\\Lib\\site-packages\\spacy\\training\\loop.py\", line 220, in train_while_improving\n",
            "    nlp.update(\n",
            "  File \"c:\\Users\\Dhruv Thakkar\\AppData\\Local\\Programs\\Python\\Python311\\Lib\\site-packages\\spacy\\language.py\", line 1186, in update\n",
            "    proc.update(examples, sgd=None, losses=losses, **component_cfg[name])  # type: ignore\n",
            "    ^^^^^^^^^^^^^^^^^^^^^^^^^^^^^^^^^^^^^^^^^^^^^^^^^^^^^^^^^^^^^^^^^^^^^\n",
            "  File \"spacy\\pipeline\\transition_parser.pyx\", line 438, in spacy.pipeline.transition_parser.Parser.update\n",
            "  File \"spacy\\ml\\parser_model.pyx\", line 333, in spacy.ml.parser_model.ParserStepModel.finish_steps\n",
            "  File \"c:\\Users\\Dhruv Thakkar\\AppData\\Local\\Programs\\Python\\Python311\\Lib\\site-packages\\thinc\\layers\\chain.py\", line 60, in backprop\n",
            "    dX = callback(dY)\n",
            "         ^^^^^^^^^^^^\n",
            "  File \"c:\\Users\\Dhruv Thakkar\\AppData\\Local\\Programs\\Python\\Python311\\Lib\\site-packages\\spacy\\pipeline\\tok2vec.py\", line 183, in backprop\n",
            "    d_docs = bp_tokvecs(d_tokvecs)\n",
            "             ^^^^^^^^^^^^^^^^^^^^^\n",
            "  File \"c:\\Users\\Dhruv Thakkar\\AppData\\Local\\Programs\\Python\\Python311\\Lib\\site-packages\\thinc\\layers\\chain.py\", line 60, in backprop\n",
            "    dX = callback(dY)\n",
            "         ^^^^^^^^^^^^\n",
            "  File \"c:\\Users\\Dhruv Thakkar\\AppData\\Local\\Programs\\Python\\Python311\\Lib\\site-packages\\thinc\\layers\\chain.py\", line 60, in backprop\n",
            "    dX = callback(dY)\n",
            "         ^^^^^^^^^^^^\n",
            "  File \"c:\\Users\\Dhruv Thakkar\\AppData\\Local\\Programs\\Python\\Python311\\Lib\\site-packages\\thinc\\layers\\with_array.py\", line 94, in backprop\n",
            "    return Ragged(get_dX(dYr.dataXd), dYr.lengths)\n",
            "                  ^^^^^^^^^^^^^^^^^^\n",
            "  File \"c:\\Users\\Dhruv Thakkar\\AppData\\Local\\Programs\\Python\\Python311\\Lib\\site-packages\\thinc\\layers\\chain.py\", line 60, in backprop\n",
            "    dX = callback(dY)\n",
            "         ^^^^^^^^^^^^\n",
            "  File \"c:\\Users\\Dhruv Thakkar\\AppData\\Local\\Programs\\Python\\Python311\\Lib\\site-packages\\thinc\\layers\\chain.py\", line 60, in backprop\n",
            "    dX = callback(dY)\n",
            "         ^^^^^^^^^^^^\n",
            "  File \"c:\\Users\\Dhruv Thakkar\\AppData\\Local\\Programs\\Python\\Python311\\Lib\\site-packages\\thinc\\layers\\maxout.py\", line 64, in backprop\n",
            "    return model.ops.gemm(dY, model.ops.reshape2f(W, nO * nP, nI))\n",
            "           ^^^^^^^^^^^^^^^^^^^^^^^^^^^^^^^^^^^^^^^^^^^^^^^^^^^^^^^\n",
            "  File \"thinc\\backends\\numpy_ops.pyx\", line 103, in thinc.backends.numpy_ops.NumpyOps.gemm\n",
            "  File \"blis\\py.pyx\", line 79, in blis.py.gemm\n",
            "numpy.core._exceptions._ArrayMemoryError: Unable to allocate 2.53 MiB for an array with shape (518, 1280) and data type float32\n",
            "\n",
            "During handling of the above exception, another exception occurred:\n",
            "\n",
            "Traceback (most recent call last):\n",
            "  File \"<frozen runpy>\", line 198, in _run_module_as_main\n",
            "  File \"<frozen runpy>\", line 88, in _run_code\n",
            "  File \"c:\\Users\\Dhruv Thakkar\\AppData\\Local\\Programs\\Python\\Python311\\Lib\\site-packages\\spacy\\__main__.py\", line 4, in <module>\n",
            "    setup_cli()\n",
            "  File \"c:\\Users\\Dhruv Thakkar\\AppData\\Local\\Programs\\Python\\Python311\\Lib\\site-packages\\spacy\\cli\\_util.py\", line 92, in setup_cli\n",
            "    command(prog_name=COMMAND)\n",
            "  File \"c:\\Users\\Dhruv Thakkar\\AppData\\Local\\Programs\\Python\\Python311\\Lib\\site-packages\\click\\core.py\", line 1157, in __call__\n",
            "    return self.main(*args, **kwargs)\n",
            "           ^^^^^^^^^^^^^^^^^^^^^^^^^^\n",
            "  File \"c:\\Users\\Dhruv Thakkar\\AppData\\Local\\Programs\\Python\\Python311\\Lib\\site-packages\\typer\\core.py\", line 778, in main\n",
            "    return _main(\n",
            "           ^^^^^^\n",
            "  File \"c:\\Users\\Dhruv Thakkar\\AppData\\Local\\Programs\\Python\\Python311\\Lib\\site-packages\\typer\\core.py\", line 216, in _main\n",
            "    rv = self.invoke(ctx)\n",
            "         ^^^^^^^^^^^^^^^^\n",
            "  File \"c:\\Users\\Dhruv Thakkar\\AppData\\Local\\Programs\\Python\\Python311\\Lib\\site-packages\\click\\core.py\", line 1688, in invoke\n",
            "    return _process_result(sub_ctx.command.invoke(sub_ctx))\n",
            "                           ^^^^^^^^^^^^^^^^^^^^^^^^^^^^^^^\n",
            "  File \"c:\\Users\\Dhruv Thakkar\\AppData\\Local\\Programs\\Python\\Python311\\Lib\\site-packages\\click\\core.py\", line 1434, in invoke\n",
            "    return ctx.invoke(self.callback, **ctx.params)\n",
            "           ^^^^^^^^^^^^^^^^^^^^^^^^^^^^^^^^^^^^^^^\n",
            "  File \"c:\\Users\\Dhruv Thakkar\\AppData\\Local\\Programs\\Python\\Python311\\Lib\\site-packages\\click\\core.py\", line 783, in invoke\n",
            "    return __callback(*args, **kwargs)\n",
            "           ^^^^^^^^^^^^^^^^^^^^^^^^^^^\n",
            "  File \"c:\\Users\\Dhruv Thakkar\\AppData\\Local\\Programs\\Python\\Python311\\Lib\\site-packages\\typer\\main.py\", line 683, in wrapper\n",
            "    return callback(**use_params)  # type: ignore\n",
            "           ^^^^^^^^^^^^^^^^^^^^^^\n",
            "  File \"c:\\Users\\Dhruv Thakkar\\AppData\\Local\\Programs\\Python\\Python311\\Lib\\site-packages\\spacy\\cli\\train.py\", line 54, in train_cli\n",
            "    train(config_path, output_path, use_gpu=use_gpu, overrides=overrides)\n",
            "  File \"c:\\Users\\Dhruv Thakkar\\AppData\\Local\\Programs\\Python\\Python311\\Lib\\site-packages\\spacy\\cli\\train.py\", line 84, in train\n",
            "    train_nlp(nlp, output_path, use_gpu=use_gpu, stdout=sys.stdout, stderr=sys.stderr)\n",
            "  File \"c:\\Users\\Dhruv Thakkar\\AppData\\Local\\Programs\\Python\\Python311\\Lib\\site-packages\\spacy\\training\\loop.py\", line 139, in train\n",
            "    save_checkpoint(False)\n",
            "  File \"c:\\Users\\Dhruv Thakkar\\AppData\\Local\\Programs\\Python\\Python311\\Lib\\site-packages\\spacy\\training\\loop.py\", line 79, in save_checkpoint\n",
            "    before_to_disk(nlp).to_disk(output_path / DIR_MODEL_LAST)\n",
            "  File \"c:\\Users\\Dhruv Thakkar\\AppData\\Local\\Programs\\Python\\Python311\\Lib\\site-packages\\spacy\\language.py\", line 2066, in to_disk\n",
            "    util.to_disk(path, serializers, exclude)\n",
            "  File \"c:\\Users\\Dhruv Thakkar\\AppData\\Local\\Programs\\Python\\Python311\\Lib\\site-packages\\spacy\\util.py\", line 1379, in to_disk\n",
            "    writer(path / key)\n",
            "  File \"c:\\Users\\Dhruv Thakkar\\AppData\\Local\\Programs\\Python\\Python311\\Lib\\site-packages\\spacy\\language.py\", line 2054, in <lambda>\n",
            "    serializers[\"tokenizer\"] = lambda p: self.tokenizer.to_disk(  # type: ignore[union-attr]\n",
            "                                         ^^^^^^^^^^^^^^^^^^^^^^^^^^^^^^^^^^^^^^^^^^^^^^^^^^^\n",
            "  File \"spacy\\tokenizer.pyx\", line 755, in spacy.tokenizer.Tokenizer.to_disk\n",
            "  File \"spacy\\tokenizer.pyx\", line 756, in spacy.tokenizer.Tokenizer.to_disk\n",
            "  File \"spacy\\tokenizer.pyx\", line 792, in spacy.tokenizer.Tokenizer.to_bytes\n",
            "  File \"c:\\Users\\Dhruv Thakkar\\AppData\\Local\\Programs\\Python\\Python311\\Lib\\site-packages\\spacy\\util.py\", line 1334, in to_bytes\n",
            "    return srsly.msgpack_dumps(to_dict(getters, exclude))\n",
            "           ^^^^^^^^^^^^^^^^^^^^^^^^^^^^^^^^^^^^^^^^^^^^^^\n",
            "  File \"c:\\Users\\Dhruv Thakkar\\AppData\\Local\\Programs\\Python\\Python311\\Lib\\site-packages\\srsly\\_msgpack_api.py\", line 14, in msgpack_dumps\n",
            "    return msgpack.dumps(data, use_bin_type=True)\n",
            "           ^^^^^^^^^^^^^^^^^^^^^^^^^^^^^^^^^^^^^^\n",
            "  File \"c:\\Users\\Dhruv Thakkar\\AppData\\Local\\Programs\\Python\\Python311\\Lib\\site-packages\\srsly\\msgpack\\__init__.py\", line 55, in packb\n",
            "    return Packer(**kwargs).pack(o)\n",
            "           ^^^^^^^^^^^^^^^^\n",
            "  File \"srsly\\msgpack\\_packer.pyx\", line 112, in srsly.msgpack._packer.Packer.__cinit__\n",
            "MemoryError: Unable to allocate internal buffer.\n"
          ]
        }
      ],
      "source": [
        "!python -m spacy train config.cfg --output ./ --paths.train ./chart.spacy --paths.dev ./test_dataset.spacy"
      ]
    },
    {
      "cell_type": "code",
      "execution_count": null,
      "metadata": {
        "id": "h2ad4mgqcsQ5"
      },
      "outputs": [],
      "source": [
        "nlp_ner = spacy.load(\"./model-best/\")"
      ]
    },
    {
      "cell_type": "code",
      "execution_count": null,
      "metadata": {
        "colab": {
          "base_uri": "https://localhost:8080/"
        },
        "id": "mPXILVBgxctO",
        "outputId": "47fa0250-4f70-4812-f8ca-90a628d907c5"
      },
      "outputs": [
        {
          "name": "stdout",
          "output_type": "stream",
          "text": [
            "This is a test with 3 examples: 1, 2, and 3.\n"
          ]
        }
      ],
      "source": [
        "number_mapping = {\n",
        "    'zero': '0',\n",
        "    'one': '1',\n",
        "    'two': '2',\n",
        "    'three': '3',\n",
        "    'four': '4',\n",
        "    'five': '5',\n",
        "    'six': '6',\n",
        "    'seven': '7',\n",
        "    'eight': '8',\n",
        "    'nine': '9'\n",
        "}\n",
        "\n",
        "input_string = \"This is a test with three examples: one, two, and three.\"\n",
        "\n",
        "# Regular expression to match text representations of numbers\n",
        "import re\n",
        "pattern = re.compile(r'\\b(' + '|'.join(number_mapping.keys()) + r')\\b', re.IGNORECASE)\n",
        "\n",
        "# Replace text representations with numerical values\n",
        "output_string = pattern.sub(lambda x: number_mapping[x.group().lower()], input_string)\n",
        "\n",
        "# Print the modified string\n",
        "print(output_string)"
      ]
    },
    {
      "cell_type": "code",
      "execution_count": null,
      "metadata": {
        "colab": {
          "base_uri": "https://localhost:8080/"
        },
        "id": "em8nq_EYEopb",
        "outputId": "ab92eb57-d203-4aeb-8c14-5a183640ef1a"
      },
      "outputs": [
        {
          "name": "stdout",
          "output_type": "stream",
          "text": [
            "['Create a pie chart for G5']\n"
          ]
        }
      ],
      "source": [
        "nlp = spacy.load(\"en_core_web_sm\")\n",
        "\n",
        "# Input paragraph\n",
        "#input_text = \"I want to set cell A1 to the value 20, and then put 50 into cell B3.\"\n",
        "#input_text = \"Assign 'Inventory' to cell E9, fill cell C7 with 'Project Deadline', insert 500 at cell F2, and write 'Customer Names' in cell A3\"\n",
        "#input_text = \"Please ensure that 'Product Inventory' is typed in cell G2, input 'Expense Report' into cell D9, and fill cell G1 with the 'Task List'.\"\n",
        "#input_text = \"Integrate the Contact List into cell A3 and append 60 to cell E4 then affix Budget Summary at cell C5, and introduce 10 at cell A8\"\n",
        "#input_text = \"Delete A\"\n",
        "# input_text = \"Put Apple in G5 and then Subsitute apple with cricket\"\n",
        "#input_text = \"Copy the values from cell E7 and paste them in cell F8.\"\n",
        "# input_text = \"Place the values from cell A27 into the cell A6.\"\n",
        "# input_text = \"Copy the values from cell E7 and paste them in cell F8.\"\n",
        "# input_text = \"Replicate the content of cell S11 and move it to cell T12.\"\n",
        "# input_text = \"Duplicate the information in cell U13 and set it in cell V14\"\n",
        "input_text = \"Insert Prathamesh in A1 and Replace winter with summer then delete value from cell A1 and insert Dhruv in B2 then copy values from cell B2 and paste it in cell F8 and delete the content of B2 Now merge the data in R1 to S5 and then merge cells G7 to F0\"\n",
        "#input_text = \"insert Prathamesh in A1 and insert orange in B2\"\n",
        "# input_text = \"Eradicate column A and then vanish row 7 and then erase cell B8\"\n",
        "# input_text = \"Merge the data in R1 to S5 and then merge cells G7 to F0\"\n",
        "#input_text = \"make the data in cell Y25 bold.\"\n",
        "input_text = \"Create a pie chart for G5\"\n",
        "\n",
        "#input_text = input_text.lower()\n",
        "\n",
        "number_mapping = {\n",
        "    'zero': '0',\n",
        "    'one': '1',\n",
        "    'two': '2',\n",
        "    'three': '3',\n",
        "    'four': '4',\n",
        "    'five': '5',\n",
        "    'six': '6',\n",
        "    'seven': '7',\n",
        "    'eight': '8',\n",
        "    'nine': '9'\n",
        "}\n",
        "\n",
        "# Regular expression to match text representations of numbers\n",
        "import re\n",
        "pattern = re.compile(r'\\b(' + '|'.join(number_mapping.keys()) + r')\\b', re.IGNORECASE)\n",
        "\n",
        "# Replace text representations with numerical values\n",
        "input_text = pattern.sub(lambda x: number_mapping[x.group().lower()], input_text)\n",
        "\n",
        "#input_text.lower()\n",
        "# Tokenize and process the input text\n",
        "doc = nlp(input_text)\n",
        "\n",
        "# Initialize a list to store sentences\n",
        "sentences = []\n",
        "\n",
        "# Keywords to split sentences\n",
        "split_keywords = [\"and\", \"or\", \"then\", \"but\", \",\", \"Now\", \"now\"]\n",
        "\n",
        "current_sentence = \"\"\n",
        "\n",
        "for token in doc:\n",
        "    if token.text in split_keywords:\n",
        "        if current_sentence:\n",
        "            sentences.append(current_sentence.strip())\n",
        "        current_sentence = \"\"\n",
        "    else:\n",
        "        current_sentence += \" \" + token.text\n",
        "\n",
        "# Add the last sentence\n",
        "if current_sentence:\n",
        "    sentences.append(current_sentence.strip())\n",
        "\n",
        "# Now 'sentences' is a list of separated sentences that you can use with your model\n",
        "# Print the separated sentences\n",
        "#for i, sentence in enumerate(sentences, start=1):\n",
        "    #print(f\"Sentence {i}: {sentence}\")\n",
        "\n",
        "print(sentences)"
      ]
    },
    {
      "cell_type": "markdown",
      "metadata": {
        "id": "FmRwFWGzgFoP"
      },
      "source": []
    },
    {
      "cell_type": "code",
      "execution_count": null,
      "metadata": {
        "id": "1JYhv52ud4Lx"
      },
      "outputs": [],
      "source": [
        "global copy_paste\n",
        "copy_paste = \"\""
      ]
    },
    {
      "cell_type": "code",
      "execution_count": null,
      "metadata": {
        "id": "5UqHfX-2Eomb"
      },
      "outputs": [],
      "source": [
        "from numpy.lib.function_base import copy\n",
        "def concat_instruction(type, cells, values,row, column):\n",
        "  global copy_paste\n",
        "  for t in type:\n",
        "    print(t)\n",
        "    if t==\"INSERT\":\n",
        "      # the sentence is of INSERT\n",
        "      # print(cells[0])\n",
        "      # print(values[0])\n",
        "      cmd = \"Insert \" + str(cells[0]) + \" \"+ str(values[0])\n",
        "      print(cmd)\n",
        "    elif t == \"DELETE\":\n",
        "      # the sentence is of type delete\n",
        "      if not len(cells) == 0:\n",
        "        cmd = \"Delete \" + str(cells[0])\n",
        "      elif not len(row) == 0:\n",
        "        cmd = \"Delete ROW \" + str(row[0])\n",
        "      elif not len(column) == 0:\n",
        "        cmd = \"Delete COLUMN \" + str(column[0])\n",
        "      print(cmd)\n",
        "\n",
        "    elif t == \"MERGE\":\n",
        "      if len(cells) == 2:\n",
        "        cmd = \"MERGE \" + str(cells[0]) + \":\" +str(cells[1])\n",
        "      print(cmd)\n",
        "\n",
        "    elif t == \"BOLD\":\n",
        "      cmd = \"BOLD \" + str(cells[0])\n",
        "      print(cmd)\n",
        "\n",
        "\n",
        "    elif t == \"ITALIC\":\n",
        "      cmd = \"ITALIC \" + str(cells[0])\n",
        "      print(cmd)\n",
        "\n",
        "    elif t == \"REPLACE\":\n",
        "      # the sentence is of type delete\n",
        "      cmd = \"REPLACE \" + str(values[0]) + \" to \"+ str(values[1])\n",
        "      print(cmd)\n",
        "    elif t == \"CHART\":\n",
        "      cmd = \"Make a \" + str(type[0])+\" chart from \" + str(cells[0])\n",
        "      print(cmd)\n",
        "    elif t == \"COPY\":\n",
        "      copy_paste = \"COPY \" + str(cells[0])\n",
        "      cmd = \"COPY \" + str(cells[0])\n",
        "      #print(cmd)\n",
        "    elif t == \"PASTE\":\n",
        "      copy_paste = copy_paste +  \" to cell \" + str(cells[0])\n",
        "      cmd = \" to cell \" + str(cells[0])\n",
        "      #cmd = copy_paste\n",
        "      #copy_paste = \"\"\n",
        "      #print(cmd)\n",
        "      print(copy_paste)\n",
        "      copy_paste=\"\"\n"
      ]
    },
    {
      "cell_type": "code",
      "execution_count": null,
      "metadata": {
        "colab": {
          "base_uri": "https://localhost:8080/"
        },
        "id": "KNHLZbffEoj7",
        "outputId": "b2afe346-78b4-4d1c-e5e7-c5426a51cd57"
      },
      "outputs": [
        {
          "name": "stdout",
          "output_type": "stream",
          "text": [
            "Create a pie chart for G5\n",
            "(pie, G5)\n",
            "CHART\n",
            "Make a CHART chart from G5\n",
            "\n"
          ]
        }
      ],
      "source": [
        "\n",
        "# Assuming 'nlp_ner' is custom-trained spaCy NER model\n",
        "#copy_paste = \"\"\n",
        "for sentence in sentences:\n",
        "\n",
        "  print(sentence)\n",
        "  values = []\n",
        "  cells = []\n",
        "  column = []\n",
        "  row = []\n",
        "  type =[]\n",
        "\n",
        "  doc = nlp_ner(sentence)\n",
        "  print(doc.ents)\n",
        "  for ent in doc.ents:\n",
        "    if ent.label_ == \"VALUE\":\n",
        "        values.append(ent.text)\n",
        "    elif (ent.label_ == \"INSERT\" or ent.label_ == \"DELETE\" or ent.label_ == \"REPLACE\" or ent.label_ == \"COPY\" or ent.label_ == \"PASTE\" or ent.label_ == \"MERGE\" or ent.label_ == \"BOLD\" or ent.label_ == \"ITALIC\" or ent.label_ == \"CHART\"):\n",
        "        type.append(ent.label_)\n",
        "    elif ent.label_ == \"CELL\":\n",
        "        cells.append(ent.text)\n",
        "    elif ent.label_ == \"ROW\":\n",
        "        row.append(ent.text)\n",
        "    elif ent.label_ == \"COLUMN\":\n",
        "        column.append(ent.text)\n",
        "  concat_instruction(type, cells, values,row, column)\n",
        "  #print(copy_paste)\n",
        "  print()"
      ]
    },
    {
      "cell_type": "code",
      "execution_count": null,
      "metadata": {
        "colab": {
          "base_uri": "https://localhost:8080/"
        },
        "id": "4mOglqDugZ0A",
        "outputId": "9b413118-de74-412c-d1e8-ae3d97bb4183"
      },
      "outputs": [
        {
          "name": "stdout",
          "output_type": "stream",
          "text": [
            "Insert G2 Product Inventory\n"
          ]
        }
      ],
      "source": [
        "# # Concatation trial\n",
        "\n",
        "# cmd = \"Insert \" + str(cells[0]) + \" \"+ str(values[0])\n",
        "\n",
        "# print(cmd)"
      ]
    },
    {
      "cell_type": "code",
      "execution_count": null,
      "metadata": {
        "colab": {
          "base_uri": "https://localhost:8080/"
        },
        "id": "cFYr8s7tfyRp",
        "outputId": "8ade6836-27b2-465f-917b-6aaa6e63a111"
      },
      "outputs": [
        {
          "name": "stdout",
          "output_type": "stream",
          "text": [
            "TYPE A\n",
            "Insert G2 Product Inventory\n"
          ]
        }
      ],
      "source": [
        "# # code to create the final instruction for the Google Sheet API\n",
        "\n",
        "\n",
        "# for t in type:\n",
        "#   print(t)\n",
        "#   if t==\"TYPE A\":\n",
        "#     # the sentence is of INSERT\n",
        "\n",
        "#     cmd = \"Insert \" + str(cells[0]) + \" \"+ str(values[0])\n",
        "#     print(cmd)\n",
        "#   elif t==\"TYPE B\":\n",
        "#     # the sentence is of type delete\n",
        "#     cmd = \"Delete \" + str(cells[0])\n",
        "#     print(cmd)\n"
      ]
    },
    {
      "cell_type": "code",
      "execution_count": null,
      "metadata": {
        "id": "yOD0Szjem9Uz"
      },
      "outputs": [],
      "source": []
    }
  ],
  "metadata": {
    "accelerator": "GPU",
    "colab": {
      "gpuType": "T4",
      "provenance": []
    },
    "kernelspec": {
      "display_name": "Python 3",
      "name": "python3"
    },
    "language_info": {
      "codemirror_mode": {
        "name": "ipython",
        "version": 3
      },
      "file_extension": ".py",
      "mimetype": "text/x-python",
      "name": "python",
      "nbconvert_exporter": "python",
      "pygments_lexer": "ipython3",
      "version": "3.10.6"
    }
  },
  "nbformat": 4,
  "nbformat_minor": 0
}
