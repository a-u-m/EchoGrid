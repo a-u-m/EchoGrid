{
  "cells": [
    {
      "cell_type": "code",
      "execution_count": 1,
      "metadata": {
        "id": "7dqWS4VozD-9"
      },
      "outputs": [],
      "source": [
        "import spacy\n",
        "from spacy.tokens import DocBin\n",
        "from tqdm import tqdm\n",
        "\n",
        "nlp = spacy.blank(\"en\") # load a new spacy model\n",
        "db = DocBin() # create a DocBin object"
      ]
    },
    {
      "cell_type": "markdown",
      "metadata": {
        "id": "_Ofwgj4eTIwT"
      },
      "source": [
        "# New Section"
      ]
    },
    {
      "cell_type": "code",
      "execution_count": 2,
      "metadata": {
        "colab": {
          "base_uri": "https://localhost:8080/"
        },
        "id": "--aCr9ZazlVG",
        "outputId": "ff6fae65-053a-41ef-fbdf-9c75c8f4a1a6"
      },
      "outputs": [
        {
          "name": "stderr",
          "output_type": "stream",
          "text": [
            "Traceback (most recent call last):\n",
            "  File \"C:\\Users\\prath\\AppData\\Roaming\\Python\\Python311\\site-packages\\urllib3\\connection.py\", line 203, in _new_conn\n",
            "    sock = connection.create_connection(\n",
            "           ^^^^^^^^^^^^^^^^^^^^^^^^^^^^^\n",
            "  File \"C:\\Users\\prath\\AppData\\Roaming\\Python\\Python311\\site-packages\\urllib3\\util\\connection.py\", line 85, in create_connection\n",
            "    raise err\n",
            "  File \"C:\\Users\\prath\\AppData\\Roaming\\Python\\Python311\\site-packages\\urllib3\\util\\connection.py\", line 73, in create_connection\n",
            "    sock.connect(sa)\n",
            "TimeoutError: [WinError 10060] A connection attempt failed because the connected party did not properly respond after a period of time, or established connection failed because connected host has failed to respond\n",
            "\n",
            "The above exception was the direct cause of the following exception:\n",
            "\n",
            "Traceback (most recent call last):\n",
            "  File \"C:\\Users\\prath\\AppData\\Roaming\\Python\\Python311\\site-packages\\urllib3\\connectionpool.py\", line 790, in urlopen\n",
            "    response = self._make_request(\n",
            "               ^^^^^^^^^^^^^^^^^^^\n",
            "  File \"C:\\Users\\prath\\AppData\\Roaming\\Python\\Python311\\site-packages\\urllib3\\connectionpool.py\", line 491, in _make_request\n",
            "    raise new_e\n",
            "  File \"C:\\Users\\prath\\AppData\\Roaming\\Python\\Python311\\site-packages\\urllib3\\connectionpool.py\", line 467, in _make_request\n",
            "    self._validate_conn(conn)\n",
            "  File \"C:\\Users\\prath\\AppData\\Roaming\\Python\\Python311\\site-packages\\urllib3\\connectionpool.py\", line 1092, in _validate_conn\n",
            "    conn.connect()\n",
            "  File \"C:\\Users\\prath\\AppData\\Roaming\\Python\\Python311\\site-packages\\urllib3\\connection.py\", line 611, in connect\n",
            "    self.sock = sock = self._new_conn()\n",
            "                       ^^^^^^^^^^^^^^^^\n",
            "  File \"C:\\Users\\prath\\AppData\\Roaming\\Python\\Python311\\site-packages\\urllib3\\connection.py\", line 212, in _new_conn\n",
            "    raise ConnectTimeoutError(\n",
            "urllib3.exceptions.ConnectTimeoutError: (<urllib3.connection.HTTPSConnection object at 0x000001DB07E04D50>, 'Connection to raw.githubusercontent.com timed out. (connect timeout=None)')\n",
            "\n",
            "The above exception was the direct cause of the following exception:\n",
            "\n",
            "Traceback (most recent call last):\n",
            "  File \"C:\\Users\\prath\\AppData\\Roaming\\Python\\Python311\\site-packages\\requests\\adapters.py\", line 486, in send\n",
            "    resp = conn.urlopen(\n",
            "           ^^^^^^^^^^^^^\n",
            "  File \"C:\\Users\\prath\\AppData\\Roaming\\Python\\Python311\\site-packages\\urllib3\\connectionpool.py\", line 844, in urlopen\n",
            "    retries = retries.increment(\n",
            "              ^^^^^^^^^^^^^^^^^^\n",
            "  File \"C:\\Users\\prath\\AppData\\Roaming\\Python\\Python311\\site-packages\\urllib3\\util\\retry.py\", line 515, in increment\n",
            "    raise MaxRetryError(_pool, url, reason) from reason  # type: ignore[arg-type]\n",
            "    ^^^^^^^^^^^^^^^^^^^^^^^^^^^^^^^^^^^^^^^^^^^^^^^^^^^\n",
            "urllib3.exceptions.MaxRetryError: HTTPSConnectionPool(host='raw.githubusercontent.com', port=443): Max retries exceeded with url: /explosion/spacy-models/master/compatibility.json (Caused by ConnectTimeoutError(<urllib3.connection.HTTPSConnection object at 0x000001DB07E04D50>, 'Connection to raw.githubusercontent.com timed out. (connect timeout=None)'))\n",
            "\n",
            "During handling of the above exception, another exception occurred:\n",
            "\n",
            "Traceback (most recent call last):\n",
            "  File \"<frozen runpy>\", line 198, in _run_module_as_main\n",
            "  File \"<frozen runpy>\", line 88, in _run_code\n",
            "  File \"C:\\Users\\prath\\AppData\\Roaming\\Python\\Python311\\site-packages\\spacy\\__main__.py\", line 4, in <module>\n",
            "    setup_cli()\n",
            "  File \"C:\\Users\\prath\\AppData\\Roaming\\Python\\Python311\\site-packages\\spacy\\cli\\_util.py\", line 92, in setup_cli\n",
            "    command(prog_name=COMMAND)\n",
            "  File \"C:\\Users\\prath\\AppData\\Roaming\\Python\\Python311\\site-packages\\click\\core.py\", line 1157, in __call__\n",
            "    return self.main(*args, **kwargs)\n",
            "           ^^^^^^^^^^^^^^^^^^^^^^^^^^\n",
            "  File \"C:\\Users\\prath\\AppData\\Roaming\\Python\\Python311\\site-packages\\typer\\core.py\", line 778, in main\n",
            "    return _main(\n",
            "           ^^^^^^\n",
            "  File \"C:\\Users\\prath\\AppData\\Roaming\\Python\\Python311\\site-packages\\typer\\core.py\", line 216, in _main\n",
            "    rv = self.invoke(ctx)\n",
            "         ^^^^^^^^^^^^^^^^\n",
            "  File \"C:\\Users\\prath\\AppData\\Roaming\\Python\\Python311\\site-packages\\click\\core.py\", line 1688, in invoke\n",
            "    return _process_result(sub_ctx.command.invoke(sub_ctx))\n",
            "                           ^^^^^^^^^^^^^^^^^^^^^^^^^^^^^^^\n",
            "  File \"C:\\Users\\prath\\AppData\\Roaming\\Python\\Python311\\site-packages\\click\\core.py\", line 1434, in invoke\n",
            "    return ctx.invoke(self.callback, **ctx.params)\n",
            "           ^^^^^^^^^^^^^^^^^^^^^^^^^^^^^^^^^^^^^^^\n",
            "  File \"C:\\Users\\prath\\AppData\\Roaming\\Python\\Python311\\site-packages\\click\\core.py\", line 783, in invoke\n",
            "    return __callback(*args, **kwargs)\n",
            "           ^^^^^^^^^^^^^^^^^^^^^^^^^^^\n",
            "  File \"C:\\Users\\prath\\AppData\\Roaming\\Python\\Python311\\site-packages\\typer\\main.py\", line 683, in wrapper\n",
            "    return callback(**use_params)  # type: ignore\n",
            "           ^^^^^^^^^^^^^^^^^^^^^^\n",
            "  File \"C:\\Users\\prath\\AppData\\Roaming\\Python\\Python311\\site-packages\\spacy\\cli\\download.py\", line 36, in download_cli\n",
            "    download(model, direct, sdist, *ctx.args)\n",
            "  File \"C:\\Users\\prath\\AppData\\Roaming\\Python\\Python311\\site-packages\\spacy\\cli\\download.py\", line 70, in download\n",
            "    compatibility = get_compatibility()\n",
            "                    ^^^^^^^^^^^^^^^^^^^\n",
            "  File \"C:\\Users\\prath\\AppData\\Roaming\\Python\\Python311\\site-packages\\spacy\\cli\\download.py\", line 94, in get_compatibility\n",
            "    r = requests.get(about.__compatibility__)\n",
            "        ^^^^^^^^^^^^^^^^^^^^^^^^^^^^^^^^^^^^^\n",
            "  File \"C:\\Users\\prath\\AppData\\Roaming\\Python\\Python311\\site-packages\\requests\\api.py\", line 73, in get\n",
            "    return request(\"get\", url, params=params, **kwargs)\n",
            "           ^^^^^^^^^^^^^^^^^^^^^^^^^^^^^^^^^^^^^^^^^^^^\n",
            "  File \"C:\\Users\\prath\\AppData\\Roaming\\Python\\Python311\\site-packages\\requests\\api.py\", line 59, in request\n",
            "    return session.request(method=method, url=url, **kwargs)\n",
            "           ^^^^^^^^^^^^^^^^^^^^^^^^^^^^^^^^^^^^^^^^^^^^^^^^^\n",
            "  File \"C:\\Users\\prath\\AppData\\Roaming\\Python\\Python311\\site-packages\\requests\\sessions.py\", line 589, in request\n",
            "    resp = self.send(prep, **send_kwargs)\n",
            "           ^^^^^^^^^^^^^^^^^^^^^^^^^^^^^^\n",
            "  File \"C:\\Users\\prath\\AppData\\Roaming\\Python\\Python311\\site-packages\\requests\\sessions.py\", line 703, in send\n",
            "    r = adapter.send(request, **kwargs)\n",
            "        ^^^^^^^^^^^^^^^^^^^^^^^^^^^^^^^\n",
            "  File \"C:\\Users\\prath\\AppData\\Roaming\\Python\\Python311\\site-packages\\requests\\adapters.py\", line 507, in send\n",
            "    raise ConnectTimeout(e, request=request)\n",
            "requests.exceptions.ConnectTimeout: HTTPSConnectionPool(host='raw.githubusercontent.com', port=443): Max retries exceeded with url: /explosion/spacy-models/master/compatibility.json (Caused by ConnectTimeoutError(<urllib3.connection.HTTPSConnection object at 0x000001DB07E04D50>, 'Connection to raw.githubusercontent.com timed out. (connect timeout=None)'))\n"
          ]
        }
      ],
      "source": [
        "!python -m spacy download en_core_web_lg"
      ]
    },
    {
      "cell_type": "code",
      "execution_count": 3,
      "metadata": {
        "id": "bYOlOX_QFI9u"
      },
      "outputs": [],
      "source": [
        "import json\n",
        "f1 = open('D:\\VIT TY (Sem 1)\\EDI\\EchoGrid\\customNER\\Datasets\\_new_train_dataset_two.json')\n",
        "f2 = open('D:\\VIT TY (Sem 1)\\EDI\\EchoGrid\\customNER\\Datasets\\_test_dataset.json')\n",
        "\n",
        "TRAIN_DATA = json.load(f1)\n",
        "TEST_DATA = json.load(f2)\n"
      ]
    },
    {
      "cell_type": "code",
      "execution_count": 4,
      "metadata": {
        "colab": {
          "base_uri": "https://localhost:8080/"
        },
        "id": "pj6L8jyRFCW-",
        "outputId": "aa53421a-1850-4936-98be-f7680da34a35"
      },
      "outputs": [
        {
          "name": "stderr",
          "output_type": "stream",
          "text": [
            "  0%|          | 0/328 [00:00<?, ?it/s]"
          ]
        },
        {
          "name": "stderr",
          "output_type": "stream",
          "text": [
            "100%|██████████| 328/328 [00:00<00:00, 3424.19it/s]"
          ]
        },
        {
          "name": "stdout",
          "output_type": "stream",
          "text": [
            "Skipping entity\n",
            "Skipping entity\n",
            "Skipping entity\n",
            "Skipping entity\n",
            "Skipping entity\n",
            "Skipping entity\n",
            "Skipping entity\n",
            "Skipping entity\n",
            "Skipping entity\n",
            "Skipping entity\n",
            "Skipping entity\n",
            "Skipping entity\n",
            "Skipping entity\n",
            "Skipping entity\n",
            "Skipping entity\n",
            "Skipping entity\n",
            "Skipping entity\n"
          ]
        },
        {
          "name": "stderr",
          "output_type": "stream",
          "text": [
            "\n"
          ]
        }
      ],
      "source": [
        "for text, annot in tqdm(TRAIN_DATA['annotations']):\n",
        "    doc = nlp.make_doc(text)\n",
        "    ents = []\n",
        "    for start, end, label in annot[\"entities\"]:\n",
        "        span = doc.char_span(start,end,label=label, alignment_mode=\"contract\")\n",
        "        if span is None:\n",
        "            print(\"Skipping entity\")\n",
        "        else:\n",
        "            ents.append(span)\n",
        "    doc.ents = ents\n",
        "    db.add(doc)\n",
        "db.to_disk(\"./bold_italic.spacy\")"
      ]
    },
    {
      "cell_type": "code",
      "execution_count": 5,
      "metadata": {
        "colab": {
          "base_uri": "https://localhost:8080/"
        },
        "id": "QfIpTmCZFCKo",
        "outputId": "62979cc3-8795-4b7c-9a11-6986c25c36aa"
      },
      "outputs": [
        {
          "name": "stderr",
          "output_type": "stream",
          "text": [
            "100%|██████████| 10/10 [00:00<00:00, 2174.79it/s]\n"
          ]
        }
      ],
      "source": [
        "for text, annot in tqdm(TEST_DATA['annotations']):\n",
        "    doc = nlp.make_doc(text)\n",
        "    ents = []\n",
        "    for start, end, label in annot[\"entities\"]:\n",
        "        span = doc.char_span(start,end,label=label, alignment_mode=\"contract\")\n",
        "        if span is None:\n",
        "            print(\"Skipping entity\")\n",
        "        else:\n",
        "            ents.append(span)\n",
        "    doc.ents = ents\n",
        "    db.add(doc)\n",
        "db.to_disk(\"./test_dataset.spacy\")"
      ]
    },
    {
      "cell_type": "code",
      "execution_count": 6,
      "metadata": {
        "colab": {
          "base_uri": "https://localhost:8080/"
        },
        "id": "jfN4_K8ivFwo",
        "outputId": "4a864512-b133-4726-c113-c3095f10b845"
      },
      "outputs": [
        {
          "name": "stdout",
          "output_type": "stream",
          "text": [
            "False\n"
          ]
        }
      ],
      "source": [
        "gpu = spacy.prefer_gpu()\n",
        "print(gpu)"
      ]
    },
    {
      "cell_type": "code",
      "execution_count": 10,
      "metadata": {
        "colab": {
          "base_uri": "https://localhost:8080/"
        },
        "id": "8Fy8m5Srza1n",
        "outputId": "c51a36e4-7127-4b30-f69f-8b5bc4c9bbe7"
      },
      "outputs": [
        {
          "name": "stdout",
          "output_type": "stream",
          "text": [
            "\u001b[38;5;4mℹ Saving to output directory: .\u001b[0m"
          ]
        },
        {
          "name": "stderr",
          "output_type": "stream",
          "text": [
            "Traceback (most recent call last):\n",
            "  File \"C:\\Users\\prath\\AppData\\Roaming\\Python\\Python311\\site-packages\\spacy\\language.py\", line 1320, in initialize\n",
            "    init_vocab(\n",
            "  File \"C:\\Users\\prath\\AppData\\Roaming\\Python\\Python311\\site-packages\\spacy\\training\\initialize.py\", line 142, in init_vocab\n",
            "    load_vectors_into_model(nlp, vectors)\n",
            "  File \"C:\\Users\\prath\\AppData\\Roaming\\Python\\Python311\\site-packages\\spacy\\training\\initialize.py\", line 164, in load_vectors_into_model\n",
            "    vectors_nlp = load_model(name, vocab=nlp.vocab, exclude=exclude)\n",
            "                  ^^^^^^^^^^^^^^^^^^^^^^^^^^^^^^^^^^^^^^^^^^^^^^^^^^\n",
            "  File \"C:\\Users\\prath\\AppData\\Roaming\\Python\\Python311\\site-packages\\spacy\\util.py\", line 472, in load_model\n",
            "    raise IOError(Errors.E050.format(name=name))\n",
            "OSError: [E050] Can't find model 'en_core_web_lg'. It doesn't seem to be a Python package or a valid path to a data directory.\n",
            "\n",
            "During handling of the above exception, another exception occurred:\n",
            "\n",
            "Traceback (most recent call last):\n",
            "  File \"<frozen runpy>\", line 198, in _run_module_as_main\n",
            "  File \"<frozen runpy>\", line 88, in _run_code\n",
            "  File \"C:\\Users\\prath\\AppData\\Roaming\\Python\\Python311\\site-packages\\spacy\\__main__.py\", line 4, in <module>\n",
            "    setup_cli()\n",
            "  File \"C:\\Users\\prath\\AppData\\Roaming\\Python\\Python311\\site-packages\\spacy\\cli\\_util.py\", line 92, in setup_cli\n",
            "    command(prog_name=COMMAND)\n",
            "  File \"C:\\Users\\prath\\AppData\\Roaming\\Python\\Python311\\site-packages\\click\\core.py\", line 1157, in __call__\n",
            "    return self.main(*args, **kwargs)\n",
            "           ^^^^^^^^^^^^^^^^^^^^^^^^^^\n",
            "  File \"C:\\Users\\prath\\AppData\\Roaming\\Python\\Python311\\site-packages\\typer\\core.py\", line 778, in main\n",
            "    return _main(\n",
            "           ^^^^^^\n",
            "  File \"C:\\Users\\prath\\AppData\\Roaming\\Python\\Python311\\site-packages\\typer\\core.py\", line 216, in _main\n",
            "    rv = self.invoke(ctx)\n",
            "         ^^^^^^^^^^^^^^^^\n",
            "  File \"C:\\Users\\prath\\AppData\\Roaming\\Python\\Python311\\site-packages\\click\\core.py\", line 1688, in invoke\n",
            "    return _process_result(sub_ctx.command.invoke(sub_ctx))\n",
            "                           ^^^^^^^^^^^^^^^^^^^^^^^^^^^^^^^\n",
            "  File \"C:\\Users\\prath\\AppData\\Roaming\\Python\\Python311\\site-packages\\click\\core.py\", line 1434, in invoke\n",
            "    return ctx.invoke(self.callback, **ctx.params)\n",
            "           ^^^^^^^^^^^^^^^^^^^^^^^^^^^^^^^^^^^^^^^\n",
            "  File \"C:\\Users\\prath\\AppData\\Roaming\\Python\\Python311\\site-packages\\click\\core.py\", line 783, in invoke\n",
            "    return __callback(*args, **kwargs)\n",
            "           ^^^^^^^^^^^^^^^^^^^^^^^^^^^\n",
            "  File \"C:\\Users\\prath\\AppData\\Roaming\\Python\\Python311\\site-packages\\typer\\main.py\", line 683, in wrapper\n",
            "    return callback(**use_params)  # type: ignore\n",
            "           ^^^^^^^^^^^^^^^^^^^^^^\n",
            "  File \"C:\\Users\\prath\\AppData\\Roaming\\Python\\Python311\\site-packages\\spacy\\cli\\train.py\", line 54, in train_cli\n",
            "    train(config_path, output_path, use_gpu=use_gpu, overrides=overrides)\n",
            "  File \"C:\\Users\\prath\\AppData\\Roaming\\Python\\Python311\\site-packages\\spacy\\cli\\train.py\", line 81, in train\n",
            "    nlp = init_nlp(config, use_gpu=use_gpu)\n",
            "          ^^^^^^^^^^^^^^^^^^^^^^^^^^^^^^^^^\n",
            "  File \"C:\\Users\\prath\\AppData\\Roaming\\Python\\Python311\\site-packages\\spacy\\training\\initialize.py\", line 95, in init_nlp\n",
            "    nlp.initialize(lambda: train_corpus(nlp), sgd=optimizer)\n",
            "  File \"C:\\Users\\prath\\AppData\\Roaming\\Python\\Python311\\site-packages\\spacy\\language.py\", line 1324, in initialize\n",
            "    raise IOError(Errors.E884.format(vectors=I[\"vectors\"]))\n",
            "OSError: [E884] The pipeline could not be initialized because the vectors could not be found at 'en_core_web_lg'. If your pipeline was already initialized/trained before, call 'resume_training' instead of 'initialize', or initialize only the components that are new.\n"
          ]
        },
        {
          "name": "stdout",
          "output_type": "stream",
          "text": [
            "\n",
            "\u001b[38;5;4mℹ Using CPU\u001b[0m\n",
            "\u001b[1m\n",
            "=========================== Initializing pipeline ===========================\u001b[0m\n"
          ]
        }
      ],
      "source": [
        "!python -m spacy train config.cfg --output ./ --paths.train ./bold_italic.spacy --paths.dev ./test_dataset.spacy"
      ]
    },
    {
      "cell_type": "code",
      "execution_count": null,
      "metadata": {
        "colab": {
          "base_uri": "https://localhost:8080/"
        },
        "id": "8X3hBkwLaH_k",
        "outputId": "4b634ed1-772c-4c5a-883f-59fd6706f5dc"
      },
      "outputs": [
        {
          "name": "stdout",
          "output_type": "stream",
          "text": [
            "Mounted at /content/gdrive\n"
          ]
        }
      ],
      "source": [
        "from google.colab import drive\n",
        "drive.mount('/content/gdrive')"
      ]
    },
    {
      "cell_type": "code",
      "execution_count": 8,
      "metadata": {
        "id": "h2ad4mgqcsQ5"
      },
      "outputs": [],
      "source": [
        "nlp_ner = spacy.load(\"./model-best/\")"
      ]
    },
    {
      "cell_type": "code",
      "execution_count": null,
      "metadata": {
        "colab": {
          "base_uri": "https://localhost:8080/"
        },
        "id": "p8zDTie8K04k",
        "outputId": "db96c61d-feed-474e-a665-83cd45f4f9d9"
      },
      "outputs": [
        {
          "name": "stdout",
          "output_type": "stream",
          "text": [
            "Mounted at /content/drive\n"
          ]
        }
      ],
      "source": [
        "from google.colab import drive\n",
        "drive.mount('/content/drive')"
      ]
    },
    {
      "cell_type": "code",
      "execution_count": null,
      "metadata": {
        "colab": {
          "base_uri": "https://localhost:8080/"
        },
        "id": "gXSh53yznsq3",
        "outputId": "b47ed5e8-a0c0-4619-da6e-a4889ce503ca"
      },
      "outputs": [
        {
          "name": "stdout",
          "output_type": "stream",
          "text": [
            "CellValue_model  TypeA_model\n"
          ]
        }
      ],
      "source": [
        "!ls /content/gdrive/MyDrive/Saved\\ Models/"
      ]
    },
    {
      "cell_type": "code",
      "execution_count": null,
      "metadata": {
        "id": "hzIkKpxmnpnV"
      },
      "outputs": [],
      "source": [
        "nlp_ner.to_disk(\"/content/gdrive/MyDrive/Saved\\ Models/7_Type_Model/\")"
      ]
    },
    {
      "cell_type": "code",
      "execution_count": null,
      "metadata": {
        "id": "fEDAxEp2npci"
      },
      "outputs": [],
      "source": [
        "# NOW SUUPPOSE THE INPUT IS PARAGRAPH"
      ]
    },
    {
      "cell_type": "code",
      "execution_count": 9,
      "metadata": {
        "colab": {
          "base_uri": "https://localhost:8080/"
        },
        "id": "mPXILVBgxctO",
        "outputId": "47fa0250-4f70-4812-f8ca-90a628d907c5"
      },
      "outputs": [
        {
          "name": "stdout",
          "output_type": "stream",
          "text": [
            "This is a test with 3 examples: 1, 2, and 3.\n"
          ]
        }
      ],
      "source": [
        "number_mapping = {\n",
        "    'zero': '0',\n",
        "    'one': '1',\n",
        "    'two': '2',\n",
        "    'three': '3',\n",
        "    'four': '4',\n",
        "    'five': '5',\n",
        "    'six': '6',\n",
        "    'seven': '7',\n",
        "    'eight': '8',\n",
        "    'nine': '9'\n",
        "}\n",
        "\n",
        "input_string = \"This is a test with three examples: one, two, and three.\"\n",
        "\n",
        "# Regular expression to match text representations of numbers\n",
        "import re\n",
        "pattern = re.compile(r'\\b(' + '|'.join(number_mapping.keys()) + r')\\b', re.IGNORECASE)\n",
        "\n",
        "# Replace text representations with numerical values\n",
        "output_string = pattern.sub(lambda x: number_mapping[x.group().lower()], input_string)\n",
        "\n",
        "# Print the modified string\n",
        "print(output_string)"
      ]
    },
    {
      "cell_type": "code",
      "execution_count": 14,
      "metadata": {
        "colab": {
          "base_uri": "https://localhost:8080/"
        },
        "id": "em8nq_EYEopb",
        "outputId": "ab92eb57-d203-4aeb-8c14-5a183640ef1a"
      },
      "outputs": [
        {
          "name": "stdout",
          "output_type": "stream",
          "text": [
            "['Insert Prathamesh in A1', 'Replace winter with summer', 'delete value from cell A1', 'insert Dhruv in B2', 'copy values from cell B2', 'paste it in cell F8', 'delete the content of B2', 'merge the data in R1 to S5', 'merge cells G7 to F0']\n"
          ]
        }
      ],
      "source": [
        "nlp = spacy.load(\"en_core_web_sm\")\n",
        "\n",
        "# Input paragraph\n",
        "#input_text = \"I want to set cell A1 to the value 20, and then put 50 into cell B3.\"\n",
        "#input_text = \"Assign 'Inventory' to cell E9, fill cell C7 with 'Project Deadline', insert 500 at cell F2, and write 'Customer Names' in cell A3\"\n",
        "#input_text = \"Please ensure that 'Product Inventory' is typed in cell G2, input 'Expense Report' into cell D9, and fill cell G1 with the 'Task List'.\"\n",
        "#input_text = \"Integrate the Contact List into cell A3 and append 60 to cell E4 then affix Budget Summary at cell C5, and introduce 10 at cell A8\"\n",
        "#input_text = \"Delete A\"\n",
        "# input_text = \"Put Apple in G5 and then Subsitute apple with cricket\"\n",
        "#input_text = \"Copy the values from cell E7 and paste them in cell F8.\"\n",
        "# input_text = \"Place the values from cell A27 into the cell A6.\"\n",
        "# input_text = \"Copy the values from cell E7 and paste them in cell F8.\"\n",
        "# input_text = \"Replicate the content of cell S11 and move it to cell T12.\"\n",
        "# input_text = \"Duplicate the information in cell U13 and set it in cell V14\"\n",
        "input_text = \"Insert Prathamesh in A1 and Replace winter with summer then delete value from cell A1 and insert Dhruv in B2 then copy values from cell B2 and paste it in cell F8 and delete the content of B2 Now merge the data in R1 to S5 and then merge cells G7 to F0\"\n",
        "#input_text = \"insert Prathamesh in A1 and insert orange in B2\"\n",
        "# input_text = \"Eradicate column A and then vanish row 7 and then erase cell B8\"\n",
        "# input_text = \"Merge the data in R1 to S5 and then merge cells G7 to F0\"\n",
        "#input_text = \"make the data in cell Y25 bold.\"\n",
        "\n",
        "#input_text = input_text.lower()\n",
        "\n",
        "number_mapping = {\n",
        "    'zero': '0',\n",
        "    'one': '1',\n",
        "    'two': '2',\n",
        "    'three': '3',\n",
        "    'four': '4',\n",
        "    'five': '5',\n",
        "    'six': '6',\n",
        "    'seven': '7',\n",
        "    'eight': '8',\n",
        "    'nine': '9'\n",
        "}\n",
        "\n",
        "# Regular expression to match text representations of numbers\n",
        "import re\n",
        "pattern = re.compile(r'\\b(' + '|'.join(number_mapping.keys()) + r')\\b', re.IGNORECASE)\n",
        "\n",
        "# Replace text representations with numerical values\n",
        "input_text = pattern.sub(lambda x: number_mapping[x.group().lower()], input_text)\n",
        "\n",
        "#input_text.lower()\n",
        "# Tokenize and process the input text\n",
        "doc = nlp(input_text)\n",
        "\n",
        "# Initialize a list to store sentences\n",
        "sentences = []\n",
        "\n",
        "# Keywords to split sentences\n",
        "split_keywords = [\"and\", \"or\", \"then\", \"but\", \",\", \"Now\", \"now\"]\n",
        "\n",
        "current_sentence = \"\"\n",
        "\n",
        "for token in doc:\n",
        "    if token.text in split_keywords:\n",
        "        if current_sentence:\n",
        "            sentences.append(current_sentence.strip())\n",
        "        current_sentence = \"\"\n",
        "    else:\n",
        "        current_sentence += \" \" + token.text\n",
        "\n",
        "# Add the last sentence\n",
        "if current_sentence:\n",
        "    sentences.append(current_sentence.strip())\n",
        "\n",
        "# Now 'sentences' is a list of separated sentences that you can use with your model\n",
        "# Print the separated sentences\n",
        "#for i, sentence in enumerate(sentences, start=1):\n",
        "    #print(f\"Sentence {i}: {sentence}\")\n",
        "\n",
        "print(sentences)"
      ]
    },
    {
      "cell_type": "markdown",
      "metadata": {
        "id": "FmRwFWGzgFoP"
      },
      "source": []
    },
    {
      "cell_type": "code",
      "execution_count": 11,
      "metadata": {
        "id": "1JYhv52ud4Lx"
      },
      "outputs": [],
      "source": [
        "global copy_paste\n",
        "copy_paste = \"\""
      ]
    },
    {
      "cell_type": "code",
      "execution_count": 12,
      "metadata": {
        "id": "5UqHfX-2Eomb"
      },
      "outputs": [],
      "source": [
        "from numpy.lib.function_base import copy\n",
        "def concat_instruction(type, cells, values,row, column):\n",
        "  global copy_paste\n",
        "  for t in type:\n",
        "    print(t)\n",
        "    if t==\"INSERT\":\n",
        "      # the sentence is of INSERT\n",
        "      # print(cells[0])\n",
        "      # print(values[0])\n",
        "      cmd = \"Insert \" + str(cells[0]) + \" \"+ str(values[0])\n",
        "      print(cmd)\n",
        "    elif t == \"DELETE\":\n",
        "      # the sentence is of type delete\n",
        "      if not len(cells) == 0:\n",
        "        cmd = \"Delete \" + str(cells[0])\n",
        "      elif not len(row) == 0:\n",
        "        cmd = \"Delete ROW \" + str(row[0])\n",
        "      elif not len(column) == 0:\n",
        "        cmd = \"Delete COLUMN \" + str(column[0])\n",
        "      print(cmd)\n",
        "\n",
        "    elif t == \"MERGE\":\n",
        "      if len(cells) == 2:\n",
        "        cmd = \"MERGE \" + str(cells[0]) + \":\" +str(cells[1])\n",
        "      print(cmd)\n",
        "\n",
        "    elif t == \"BOLD\":\n",
        "      cmd = \"BOLD \" + str(cells[0])\n",
        "      print(cmd)\n",
        "\n",
        "\n",
        "    elif t == \"ITALIC\":\n",
        "      cmd = \"ITALIC \" + str(cells[0])\n",
        "      print(cmd)\n",
        "\n",
        "    elif t == \"REPLACE\":\n",
        "      # the sentence is of type delete\n",
        "      cmd = \"REPLACE \" + str(values[0]) + \" to \"+ str(values[1])\n",
        "      print(cmd)\n",
        "\n",
        "    elif t == \"COPY\":\n",
        "      copy_paste = \"COPY \" + str(cells[0])\n",
        "      cmd = \"COPY \" + str(cells[0])\n",
        "      #print(cmd)\n",
        "    elif t == \"PASTE\":\n",
        "      copy_paste = copy_paste +  \" to cell \" + str(cells[0])\n",
        "      cmd = \" to cell \" + str(cells[0])\n",
        "      #cmd = copy_paste\n",
        "      #copy_paste = \"\"\n",
        "      #print(cmd)\n",
        "      print(copy_paste)\n",
        "      copy_paste=\"\"\n"
      ]
    },
    {
      "cell_type": "code",
      "execution_count": 15,
      "metadata": {
        "colab": {
          "base_uri": "https://localhost:8080/"
        },
        "id": "KNHLZbffEoj7",
        "outputId": "b2afe346-78b4-4d1c-e5e7-c5426a51cd57"
      },
      "outputs": [
        {
          "name": "stdout",
          "output_type": "stream",
          "text": [
            "Insert Prathamesh in A1\n",
            "(Insert, Prathamesh, A1)\n",
            "INSERT\n",
            "Insert A1 Prathamesh\n",
            "\n",
            "Replace winter with summer\n",
            "(Replace, winter, summer)\n",
            "REPLACE\n",
            "REPLACE winter to summer\n",
            "\n",
            "delete value from cell A1\n",
            "(delete, A1)\n",
            "DELETE\n",
            "Delete A1\n",
            "\n",
            "insert Dhruv in B2\n",
            "(insert, Dhruv, B2)\n",
            "INSERT\n",
            "Insert B2 Dhruv\n",
            "\n",
            "copy values from cell B2\n",
            "(copy, B2)\n",
            "COPY\n",
            "\n",
            "paste it in cell F8\n",
            "(paste, F8)\n",
            "PASTE\n",
            "COPY B2 to cell F8\n",
            "\n",
            "delete the content of B2\n",
            "(delete, B2)\n",
            "DELETE\n",
            "Delete B2\n",
            "\n",
            "merge the data in R1 to S5\n",
            "(merge, R1, S5)\n",
            "MERGE\n",
            "MERGE R1:S5\n",
            "\n",
            "merge cells G7 to F0\n",
            "(merge, G7, F0)\n",
            "MERGE\n",
            "MERGE G7:F0\n",
            "\n"
          ]
        }
      ],
      "source": [
        "\n",
        "# Assuming 'nlp_ner' is custom-trained spaCy NER model\n",
        "#copy_paste = \"\"\n",
        "for sentence in sentences:\n",
        "\n",
        "  print(sentence)\n",
        "  values = []\n",
        "  cells = []\n",
        "  column = []\n",
        "  row = []\n",
        "  type =[]\n",
        "\n",
        "  doc = nlp_ner(sentence)\n",
        "  print(doc.ents)\n",
        "  for ent in doc.ents:\n",
        "    if ent.label_ == \"VALUE\":\n",
        "        values.append(ent.text)\n",
        "    elif (ent.label_ == \"INSERT\" or ent.label_ == \"DELETE\" or ent.label_ == \"REPLACE\" or ent.label_ == \"COPY\" or ent.label_ == \"PASTE\" or ent.label_ == \"MERGE\" or ent.label_ == \"BOLD\" or ent.label_ == \"ITALIC\"):\n",
        "        type.append(ent.label_)\n",
        "    elif ent.label_ == \"CELL\":\n",
        "        cells.append(ent.text)\n",
        "    elif ent.label_ == \"ROW\":\n",
        "        row.append(ent.text)\n",
        "    elif ent.label_ == \"COLUMN\":\n",
        "        column.append(ent.text)\n",
        "  concat_instruction(type, cells, values,row, column)\n",
        "  #print(copy_paste)\n",
        "  print()"
      ]
    },
    {
      "cell_type": "code",
      "execution_count": null,
      "metadata": {
        "colab": {
          "base_uri": "https://localhost:8080/"
        },
        "id": "4mOglqDugZ0A",
        "outputId": "9b413118-de74-412c-d1e8-ae3d97bb4183"
      },
      "outputs": [
        {
          "name": "stdout",
          "output_type": "stream",
          "text": [
            "Insert G2 Product Inventory\n"
          ]
        }
      ],
      "source": [
        "# # Concatation trial\n",
        "\n",
        "# cmd = \"Insert \" + str(cells[0]) + \" \"+ str(values[0])\n",
        "\n",
        "# print(cmd)"
      ]
    },
    {
      "cell_type": "code",
      "execution_count": null,
      "metadata": {
        "colab": {
          "base_uri": "https://localhost:8080/"
        },
        "id": "cFYr8s7tfyRp",
        "outputId": "8ade6836-27b2-465f-917b-6aaa6e63a111"
      },
      "outputs": [
        {
          "name": "stdout",
          "output_type": "stream",
          "text": [
            "TYPE A\n",
            "Insert G2 Product Inventory\n"
          ]
        }
      ],
      "source": [
        "# # code to create the final instruction for the Google Sheet API\n",
        "\n",
        "\n",
        "# for t in type:\n",
        "#   print(t)\n",
        "#   if t==\"TYPE A\":\n",
        "#     # the sentence is of INSERT\n",
        "\n",
        "#     cmd = \"Insert \" + str(cells[0]) + \" \"+ str(values[0])\n",
        "#     print(cmd)\n",
        "#   elif t==\"TYPE B\":\n",
        "#     # the sentence is of type delete\n",
        "#     cmd = \"Delete \" + str(cells[0])\n",
        "#     print(cmd)\n"
      ]
    },
    {
      "cell_type": "code",
      "execution_count": null,
      "metadata": {
        "id": "yOD0Szjem9Uz"
      },
      "outputs": [],
      "source": []
    }
  ],
  "metadata": {
    "accelerator": "GPU",
    "colab": {
      "gpuType": "T4",
      "provenance": []
    },
    "kernelspec": {
      "display_name": "Python 3",
      "name": "python3"
    },
    "language_info": {
      "codemirror_mode": {
        "name": "ipython",
        "version": 3
      },
      "file_extension": ".py",
      "mimetype": "text/x-python",
      "name": "python",
      "nbconvert_exporter": "python",
      "pygments_lexer": "ipython3",
      "version": "3.11.5"
    }
  },
  "nbformat": 4,
  "nbformat_minor": 0
}
