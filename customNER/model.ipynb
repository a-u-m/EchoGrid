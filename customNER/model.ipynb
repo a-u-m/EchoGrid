{
  "cells": [
    {
      "cell_type": "code",
      "execution_count": 27,
      "metadata": {
        "colab": {
          "background_save": true
        },
        "id": "7dqWS4VozD-9"
      },
      "outputs": [],
      "source": [
        "import spacy\n",
        "from spacy.tokens import DocBin\n",
        "from tqdm import tqdm\n",
        "\n",
        "nlp = spacy.blank(\"en\") # load a new spacy model\n",
        "db = DocBin() # create a DocBin object"
      ]
    },
    {
      "cell_type": "markdown",
      "metadata": {
        "id": "_Ofwgj4eTIwT"
      },
      "source": [
        "# New Section"
      ]
    },
    {
      "cell_type": "code",
      "execution_count": null,
      "metadata": {
        "colab": {
          "base_uri": "https://localhost:8080/"
        },
        "id": "--aCr9ZazlVG",
        "outputId": "77011870-44b4-45cd-92da-dc5860f82a6d"
      },
      "outputs": [],
      "source": [
        "!python -m spacy download en_core_web_lg"
      ]
    },
    {
      "cell_type": "code",
      "execution_count": 29,
      "metadata": {
        "id": "bYOlOX_QFI9u"
      },
      "outputs": [],
      "source": [
        "import json\n",
        "f1 = open('./Datasets/typeA_B_train_dataset.json')\n",
        "f2 = open('./Datasets/typeA_B_test_dataset.json')\n",
        "\n",
        "TRAIN_DATA = json.load(f1)\n",
        "TEST_DATA = json.load(f2)\n"
      ]
    },
    {
      "cell_type": "code",
      "execution_count": null,
      "metadata": {
        "colab": {
          "base_uri": "https://localhost:8080/"
        },
        "id": "pj6L8jyRFCW-",
        "outputId": "d3a0653d-c689-4967-929e-7c6fd5374bb6"
      },
      "outputs": [],
      "source": [
        "for text, annot in tqdm(TRAIN_DATA['annotations']):\n",
        "    doc = nlp.make_doc(text)\n",
        "    ents = []\n",
        "    for start, end, label in annot[\"entities\"]:\n",
        "        span = doc.char_span(start,end,label=label, alignment_mode=\"contract\")\n",
        "        if span is None:\n",
        "            print(\"Skipping entity\")\n",
        "        else:\n",
        "            ents.append(span)\n",
        "    doc.ents = ents\n",
        "    db.add(doc)\n",
        "db.to_disk(\"./Datasets/typeA_B_train_dataset.spacy\")"
      ]
    },
    {
      "cell_type": "code",
      "execution_count": null,
      "metadata": {
        "colab": {
          "base_uri": "https://localhost:8080/"
        },
        "id": "QfIpTmCZFCKo",
        "outputId": "0e6f42f8-3086-47fc-f942-e99f398e605e"
      },
      "outputs": [],
      "source": [
        "for text, annot in tqdm(TEST_DATA['annotations']):\n",
        "    doc = nlp.make_doc(text)\n",
        "    ents = []\n",
        "    for start, end, label in annot[\"entities\"]:\n",
        "        span = doc.char_span(start,end,label=label, alignment_mode=\"contract\")\n",
        "        if span is None:\n",
        "            print(\"Skipping entity\")\n",
        "        else:\n",
        "            ents.append(span)\n",
        "    doc.ents = ents\n",
        "    db.add(doc)\n",
        "db.to_disk(\"./Datasets/typeA_B_test_dataset.spacy\")"
      ]
    },
    {
      "cell_type": "code",
      "execution_count": null,
      "metadata": {
        "colab": {
          "background_save": true,
          "base_uri": "https://localhost:8080/"
        },
        "id": "8Fy8m5Srza1n",
        "outputId": "f8e7c77e-3b7f-45b0-f72c-e467375f6e1e"
      },
      "outputs": [],
      "source": [
        "!python -m spacy train ./config.cfg --output ./model --paths.train ./Datasets/typeA_B_train_dataset.spacy --paths.dev ./Datasets/typeA_B_test_dataset.spacy"
      ]
    },
    {
      "cell_type": "code",
      "execution_count": null,
      "metadata": {
        "colab": {
          "base_uri": "https://localhost:8080/"
        },
        "id": "8X3hBkwLaH_k",
        "outputId": "3f13040e-1fe7-46e5-c023-27fed00bdf4b"
      },
      "outputs": [],
      "source": [
        "from google.colab import drive\n",
        "drive.mount('/content/gdrive')"
      ]
    },
    {
      "cell_type": "code",
      "execution_count": null,
      "metadata": {
        "id": "h2ad4mgqcsQ5"
      },
      "outputs": [],
      "source": [
        "nlp_ner = spacy.load(\"./model/model-best\")"
      ]
    },
    {
      "cell_type": "code",
      "execution_count": null,
      "metadata": {
        "id": "gXSh53yznsq3"
      },
      "outputs": [],
      "source": [
        "!ls /content/gdrive/MyDrive/Saved\\ Models/typeA_model/"
      ]
    },
    {
      "cell_type": "code",
      "execution_count": null,
      "metadata": {
        "id": "hzIkKpxmnpnV"
      },
      "outputs": [],
      "source": [
        "nlp_ner.to_disk(\"/content/gdrive/MyDrive/Saved\\ Models/typeA_model/\")"
      ]
    },
    {
      "cell_type": "code",
      "execution_count": null,
      "metadata": {},
      "outputs": [],
      "source": []
    },
    {
      "cell_type": "code",
      "execution_count": null,
      "metadata": {},
      "outputs": [],
      "source": []
    },
    {
      "cell_type": "code",
      "execution_count": null,
      "metadata": {
        "colab": {
          "base_uri": "https://localhost:8080/",
          "height": 245
        },
        "id": "fHpCNVoN4a46",
        "outputId": "a6323749-20d3-4b7d-b539-bd7a4b4cae90"
      },
      "outputs": [],
      "source": []
    },
    {
      "cell_type": "code",
      "execution_count": null,
      "metadata": {
        "colab": {
          "base_uri": "https://localhost:8080/"
        },
        "id": "4mOglqDugZ0A",
        "outputId": "40298da9-afd4-435c-e3ac-51b94adad4d3"
      },
      "outputs": [],
      "source": [
        "# Concatation trial\n",
        "\n",
        "cmd = \"Insert \" + str(cells[0]) + \" \"+ str(values[0])\n",
        "\n",
        "print(cmd)"
      ]
    },
    {
      "cell_type": "code",
      "execution_count": null,
      "metadata": {
        "colab": {
          "base_uri": "https://localhost:8080/"
        },
        "id": "cFYr8s7tfyRp",
        "outputId": "514d4ae4-2cee-45eb-94d3-94913b610f6c"
      },
      "outputs": [],
      "source": [
        "# code to create the final instruction for the Google Sheet API\n",
        "\n",
        "\n",
        "for t in type:\n",
        "  print(t)\n",
        "  if t==\"TYPE A\":\n",
        "    # the sentence is of INSERT\n",
        "\n",
        "    cmd = \"Insert \" + str(cells[0]) + \" \"+ str(values[0])\n",
        "    print(cmd)\n",
        "  elif t==\"TYPE B\":\n",
        "    # the sentence is of type delete\n",
        "    cmd = \"Delete \" + str(cells[0])\n",
        "    print(cmd)\n"
      ]
    },
    {
      "cell_type": "code",
      "execution_count": null,
      "metadata": {},
      "outputs": [],
      "source": []
    },
    {
      "cell_type": "code",
      "execution_count": null,
      "metadata": {},
      "outputs": [],
      "source": []
    }
  ],
  "metadata": {
    "colab": {
      "provenance": []
    },
    "kernelspec": {
      "display_name": "Python 3",
      "name": "python3"
    },
    "language_info": {
      "codemirror_mode": {
        "name": "ipython",
        "version": 3
      },
      "file_extension": ".py",
      "mimetype": "text/x-python",
      "name": "python",
      "nbconvert_exporter": "python",
      "pygments_lexer": "ipython3",
      "version": "3.11.5"
    }
  },
  "nbformat": 4,
  "nbformat_minor": 0
}
