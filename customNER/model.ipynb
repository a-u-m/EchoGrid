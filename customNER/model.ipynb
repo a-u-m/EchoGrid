{
  "cells": [
    {
      "cell_type": "code",
      "execution_count": 1,
      "metadata": {
        "colab": {
          "background_save": true
        },
        "id": "7dqWS4VozD-9"
      },
      "outputs": [],
      "source": [
        "import spacy\n",
        "from spacy.tokens import DocBin\n",
        "from tqdm import tqdm\n",
        "\n",
        "nlp = spacy.blank(\"en\") # load a new spacy model\n",
        "db = DocBin() # create a DocBin object"
      ]
    },
    {
      "cell_type": "markdown",
      "metadata": {
        "id": "_Ofwgj4eTIwT"
      },
      "source": [
        "# New Section"
      ]
    },
    {
      "cell_type": "code",
      "execution_count": 18,
      "metadata": {
        "colab": {
          "base_uri": "https://localhost:8080/"
        },
        "id": "--aCr9ZazlVG",
        "outputId": "77011870-44b4-45cd-92da-dc5860f82a6d"
      },
      "outputs": [
        {
          "name": "stderr",
          "output_type": "stream",
          "text": [
            "Traceback (most recent call last):\n",
            "  File \"c:\\Users\\Dhruv Thakkar\\AppData\\Local\\Programs\\Python\\Python311\\Lib\\site-packages\\urllib3\\connection.py\", line 203, in _new_conn\n",
            "    sock = connection.create_connection(\n",
            "           ^^^^^^^^^^^^^^^^^^^^^^^^^^^^^\n",
            "  File \"c:\\Users\\Dhruv Thakkar\\AppData\\Local\\Programs\\Python\\Python311\\Lib\\site-packages\\urllib3\\util\\connection.py\", line 85, in create_connection\n",
            "    raise err\n",
            "  File \"c:\\Users\\Dhruv Thakkar\\AppData\\Local\\Programs\\Python\\Python311\\Lib\\site-packages\\urllib3\\util\\connection.py\", line 73, in create_connection\n",
            "    sock.connect(sa)\n",
            "TimeoutError: [WinError 10060] A connection attempt failed because the connected party did not properly respond after a period of time, or established connection failed because connected host has failed to respond\n",
            "\n",
            "The above exception was the direct cause of the following exception:\n",
            "\n",
            "Traceback (most recent call last):\n",
            "  File \"c:\\Users\\Dhruv Thakkar\\AppData\\Local\\Programs\\Python\\Python311\\Lib\\site-packages\\urllib3\\connectionpool.py\", line 790, in urlopen\n",
            "    response = self._make_request(\n",
            "               ^^^^^^^^^^^^^^^^^^^\n",
            "  File \"c:\\Users\\Dhruv Thakkar\\AppData\\Local\\Programs\\Python\\Python311\\Lib\\site-packages\\urllib3\\connectionpool.py\", line 491, in _make_request\n",
            "    raise new_e\n",
            "  File \"c:\\Users\\Dhruv Thakkar\\AppData\\Local\\Programs\\Python\\Python311\\Lib\\site-packages\\urllib3\\connectionpool.py\", line 467, in _make_request\n",
            "    self._validate_conn(conn)\n",
            "  File \"c:\\Users\\Dhruv Thakkar\\AppData\\Local\\Programs\\Python\\Python311\\Lib\\site-packages\\urllib3\\connectionpool.py\", line 1092, in _validate_conn\n",
            "    conn.connect()\n",
            "  File \"c:\\Users\\Dhruv Thakkar\\AppData\\Local\\Programs\\Python\\Python311\\Lib\\site-packages\\urllib3\\connection.py\", line 611, in connect\n",
            "    self.sock = sock = self._new_conn()\n",
            "                       ^^^^^^^^^^^^^^^^\n",
            "  File \"c:\\Users\\Dhruv Thakkar\\AppData\\Local\\Programs\\Python\\Python311\\Lib\\site-packages\\urllib3\\connection.py\", line 212, in _new_conn\n",
            "    raise ConnectTimeoutError(\n",
            "urllib3.exceptions.ConnectTimeoutError: (<urllib3.connection.HTTPSConnection object at 0x000001F7D25DB250>, 'Connection to raw.githubusercontent.com timed out. (connect timeout=None)')\n",
            "\n",
            "The above exception was the direct cause of the following exception:\n",
            "\n",
            "Traceback (most recent call last):\n",
            "  File \"c:\\Users\\Dhruv Thakkar\\AppData\\Local\\Programs\\Python\\Python311\\Lib\\site-packages\\requests\\adapters.py\", line 486, in send\n",
            "    resp = conn.urlopen(\n",
            "           ^^^^^^^^^^^^^\n",
            "  File \"c:\\Users\\Dhruv Thakkar\\AppData\\Local\\Programs\\Python\\Python311\\Lib\\site-packages\\urllib3\\connectionpool.py\", line 844, in urlopen\n",
            "    retries = retries.increment(\n",
            "              ^^^^^^^^^^^^^^^^^^\n",
            "  File \"c:\\Users\\Dhruv Thakkar\\AppData\\Local\\Programs\\Python\\Python311\\Lib\\site-packages\\urllib3\\util\\retry.py\", line 515, in increment\n",
            "    raise MaxRetryError(_pool, url, reason) from reason  # type: ignore[arg-type]\n",
            "    ^^^^^^^^^^^^^^^^^^^^^^^^^^^^^^^^^^^^^^^^^^^^^^^^^^^\n",
            "urllib3.exceptions.MaxRetryError: HTTPSConnectionPool(host='raw.githubusercontent.com', port=443): Max retries exceeded with url: /explosion/spacy-models/master/compatibility.json (Caused by ConnectTimeoutError(<urllib3.connection.HTTPSConnection object at 0x000001F7D25DB250>, 'Connection to raw.githubusercontent.com timed out. (connect timeout=None)'))\n",
            "\n",
            "During handling of the above exception, another exception occurred:\n",
            "\n",
            "Traceback (most recent call last):\n",
            "  File \"<frozen runpy>\", line 198, in _run_module_as_main\n",
            "  File \"<frozen runpy>\", line 88, in _run_code\n",
            "  File \"c:\\Users\\Dhruv Thakkar\\AppData\\Local\\Programs\\Python\\Python311\\Lib\\site-packages\\spacy\\__main__.py\", line 4, in <module>\n",
            "    setup_cli()\n",
            "  File \"c:\\Users\\Dhruv Thakkar\\AppData\\Local\\Programs\\Python\\Python311\\Lib\\site-packages\\spacy\\cli\\_util.py\", line 92, in setup_cli\n",
            "    command(prog_name=COMMAND)\n",
            "  File \"c:\\Users\\Dhruv Thakkar\\AppData\\Local\\Programs\\Python\\Python311\\Lib\\site-packages\\click\\core.py\", line 1157, in __call__\n",
            "    return self.main(*args, **kwargs)\n",
            "           ^^^^^^^^^^^^^^^^^^^^^^^^^^\n",
            "  File \"c:\\Users\\Dhruv Thakkar\\AppData\\Local\\Programs\\Python\\Python311\\Lib\\site-packages\\typer\\core.py\", line 778, in main\n",
            "    return _main(\n",
            "           ^^^^^^\n",
            "  File \"c:\\Users\\Dhruv Thakkar\\AppData\\Local\\Programs\\Python\\Python311\\Lib\\site-packages\\typer\\core.py\", line 216, in _main\n",
            "    rv = self.invoke(ctx)\n",
            "         ^^^^^^^^^^^^^^^^\n",
            "  File \"c:\\Users\\Dhruv Thakkar\\AppData\\Local\\Programs\\Python\\Python311\\Lib\\site-packages\\click\\core.py\", line 1688, in invoke\n",
            "    return _process_result(sub_ctx.command.invoke(sub_ctx))\n",
            "                           ^^^^^^^^^^^^^^^^^^^^^^^^^^^^^^^\n",
            "  File \"c:\\Users\\Dhruv Thakkar\\AppData\\Local\\Programs\\Python\\Python311\\Lib\\site-packages\\click\\core.py\", line 1434, in invoke\n",
            "    return ctx.invoke(self.callback, **ctx.params)\n",
            "           ^^^^^^^^^^^^^^^^^^^^^^^^^^^^^^^^^^^^^^^\n",
            "  File \"c:\\Users\\Dhruv Thakkar\\AppData\\Local\\Programs\\Python\\Python311\\Lib\\site-packages\\click\\core.py\", line 783, in invoke\n",
            "    return __callback(*args, **kwargs)\n",
            "           ^^^^^^^^^^^^^^^^^^^^^^^^^^^\n",
            "  File \"c:\\Users\\Dhruv Thakkar\\AppData\\Local\\Programs\\Python\\Python311\\Lib\\site-packages\\typer\\main.py\", line 683, in wrapper\n",
            "    return callback(**use_params)  # type: ignore\n",
            "           ^^^^^^^^^^^^^^^^^^^^^^\n",
            "  File \"c:\\Users\\Dhruv Thakkar\\AppData\\Local\\Programs\\Python\\Python311\\Lib\\site-packages\\spacy\\cli\\download.py\", line 36, in download_cli\n",
            "    download(model, direct, sdist, *ctx.args)\n",
            "  File \"c:\\Users\\Dhruv Thakkar\\AppData\\Local\\Programs\\Python\\Python311\\Lib\\site-packages\\spacy\\cli\\download.py\", line 70, in download\n",
            "    compatibility = get_compatibility()\n",
            "                    ^^^^^^^^^^^^^^^^^^^\n",
            "  File \"c:\\Users\\Dhruv Thakkar\\AppData\\Local\\Programs\\Python\\Python311\\Lib\\site-packages\\spacy\\cli\\download.py\", line 94, in get_compatibility\n",
            "    r = requests.get(about.__compatibility__)\n",
            "        ^^^^^^^^^^^^^^^^^^^^^^^^^^^^^^^^^^^^^\n",
            "  File \"c:\\Users\\Dhruv Thakkar\\AppData\\Local\\Programs\\Python\\Python311\\Lib\\site-packages\\requests\\api.py\", line 73, in get\n",
            "    return request(\"get\", url, params=params, **kwargs)\n",
            "           ^^^^^^^^^^^^^^^^^^^^^^^^^^^^^^^^^^^^^^^^^^^^\n",
            "  File \"c:\\Users\\Dhruv Thakkar\\AppData\\Local\\Programs\\Python\\Python311\\Lib\\site-packages\\requests\\api.py\", line 59, in request\n",
            "    return session.request(method=method, url=url, **kwargs)\n",
            "           ^^^^^^^^^^^^^^^^^^^^^^^^^^^^^^^^^^^^^^^^^^^^^^^^^\n",
            "  File \"c:\\Users\\Dhruv Thakkar\\AppData\\Local\\Programs\\Python\\Python311\\Lib\\site-packages\\requests\\sessions.py\", line 589, in request\n",
            "    resp = self.send(prep, **send_kwargs)\n",
            "           ^^^^^^^^^^^^^^^^^^^^^^^^^^^^^^\n",
            "  File \"c:\\Users\\Dhruv Thakkar\\AppData\\Local\\Programs\\Python\\Python311\\Lib\\site-packages\\requests\\sessions.py\", line 703, in send\n",
            "    r = adapter.send(request, **kwargs)\n",
            "        ^^^^^^^^^^^^^^^^^^^^^^^^^^^^^^^\n",
            "  File \"c:\\Users\\Dhruv Thakkar\\AppData\\Local\\Programs\\Python\\Python311\\Lib\\site-packages\\requests\\adapters.py\", line 507, in send\n",
            "    raise ConnectTimeout(e, request=request)\n",
            "requests.exceptions.ConnectTimeout: HTTPSConnectionPool(host='raw.githubusercontent.com', port=443): Max retries exceeded with url: /explosion/spacy-models/master/compatibility.json (Caused by ConnectTimeoutError(<urllib3.connection.HTTPSConnection object at 0x000001F7D25DB250>, 'Connection to raw.githubusercontent.com timed out. (connect timeout=None)'))\n"
          ]
        }
      ],
      "source": [
        "!python -m spacy download en_core_web_lg"
      ]
    },
    {
      "cell_type": "code",
      "execution_count": 10,
      "metadata": {
        "id": "bYOlOX_QFI9u"
      },
      "outputs": [],
      "source": [
        "import json\n",
        "f1 = open('./Datasets/typeA_B_train_dataset.json')\n",
        "f2 = open('./Datasets/typeA_B_test_dataset.json')\n",
        "\n",
        "TRAIN_DATA = json.load(f1)\n",
        "TEST_DATA = json.load(f2)\n"
      ]
    },
    {
      "cell_type": "code",
      "execution_count": 11,
      "metadata": {
        "colab": {
          "base_uri": "https://localhost:8080/"
        },
        "id": "pj6L8jyRFCW-",
        "outputId": "d3a0653d-c689-4967-929e-7c6fd5374bb6"
      },
      "outputs": [
        {
          "name": "stderr",
          "output_type": "stream",
          "text": [
            "100%|██████████| 92/92 [00:00<00:00, 7474.16it/s]\n"
          ]
        }
      ],
      "source": [
        "for text, annot in tqdm(TRAIN_DATA['annotations']):\n",
        "    doc = nlp.make_doc(text)\n",
        "    ents = []\n",
        "    for start, end, label in annot[\"entities\"]:\n",
        "        span = doc.char_span(start,end,label=label, alignment_mode=\"contract\")\n",
        "        if span is None:\n",
        "            print(\"Skipping entity\")\n",
        "        else:\n",
        "            ents.append(span)\n",
        "    doc.ents = ents\n",
        "    db.add(doc)\n",
        "db.to_disk(\"./Datasets/typeA_B_train_dataset.spacy\")"
      ]
    },
    {
      "cell_type": "code",
      "execution_count": 12,
      "metadata": {
        "colab": {
          "base_uri": "https://localhost:8080/"
        },
        "id": "QfIpTmCZFCKo",
        "outputId": "0e6f42f8-3086-47fc-f942-e99f398e605e"
      },
      "outputs": [
        {
          "name": "stderr",
          "output_type": "stream",
          "text": [
            "100%|██████████| 15/15 [00:00<00:00, 2878.07it/s]"
          ]
        },
        {
          "name": "stdout",
          "output_type": "stream",
          "text": [
            "Skipping entity\n",
            "Skipping entity\n"
          ]
        },
        {
          "name": "stderr",
          "output_type": "stream",
          "text": [
            "\n"
          ]
        }
      ],
      "source": [
        "for text, annot in tqdm(TEST_DATA['annotations']):\n",
        "    doc = nlp.make_doc(text)\n",
        "    ents = []\n",
        "    for start, end, label in annot[\"entities\"]:\n",
        "        span = doc.char_span(start,end,label=label, alignment_mode=\"contract\")\n",
        "        if span is None:\n",
        "            print(\"Skipping entity\")\n",
        "        else:\n",
        "            ents.append(span)\n",
        "    doc.ents = ents\n",
        "    db.add(doc)\n",
        "db.to_disk(\"./Datasets/typeA_B_test_dataset.spacy\")"
      ]
    },
    {
      "cell_type": "code",
      "execution_count": 17,
      "metadata": {
        "colab": {
          "background_save": true,
          "base_uri": "https://localhost:8080/"
        },
        "id": "8Fy8m5Srza1n",
        "outputId": "f8e7c77e-3b7f-45b0-f72c-e467375f6e1e"
      },
      "outputs": [
        {
          "name": "stdout",
          "output_type": "stream",
          "text": [
            "^C\n"
          ]
        },
        {
          "name": "stdout",
          "output_type": "stream",
          "text": [
            "\u001b[38;5;4mℹ Saving to output directory: model\u001b[0m\n",
            "\u001b[38;5;4mℹ Using CPU\u001b[0m\n",
            "\u001b[1m\n",
            "=========================== Initializing pipeline ===========================\u001b[0m\n",
            "\u001b[38;5;2m✔ Initialized pipeline\u001b[0m\n",
            "\u001b[1m\n",
            "============================= Training pipeline =============================\u001b[0m\n",
            "\u001b[38;5;4mℹ Pipeline: ['tok2vec', 'ner']\u001b[0m\n",
            "\u001b[38;5;4mℹ Initial learn rate: 0.001\u001b[0m\n",
            "E    #       LOSS TOK2VEC  LOSS NER  ENTS_F  ENTS_P  ENTS_R  SCORE \n",
            "---  ------  ------------  --------  ------  ------  ------  ------\n",
            "  0       0          0.00     69.17   19.39   14.80   28.14    0.19\n",
            " 36     200          1.79    888.61   99.66   99.33  100.00    1.00\n",
            " 80     400          0.00      0.00   99.66   99.33  100.00    1.00\n",
            "131     600          0.00      0.00   99.66   99.33  100.00    1.00\n",
            "198     800          0.00      0.00   99.66   99.33  100.00    1.00\n",
            "\u001b[38;5;3m⚠ Aborting and saving the final best model. Encountered exception:\n",
            "MemoryError((549, 768), dtype('float32'))\u001b[0m\n"
          ]
        },
        {
          "name": "stderr",
          "output_type": "stream",
          "text": [
            "Traceback (most recent call last):\n",
            "  File \"c:\\Users\\Dhruv Thakkar\\AppData\\Local\\Programs\\Python\\Python311\\Lib\\site-packages\\spacy\\training\\loop.py\", line 135, in train\n",
            "    raise e\n",
            "  File \"c:\\Users\\Dhruv Thakkar\\AppData\\Local\\Programs\\Python\\Python311\\Lib\\site-packages\\spacy\\training\\loop.py\", line 118, in train\n",
            "    for batch, info, is_best_checkpoint in training_step_iterator:\n",
            "  File \"c:\\Users\\Dhruv Thakkar\\AppData\\Local\\Programs\\Python\\Python311\\Lib\\site-packages\\spacy\\training\\loop.py\", line 220, in train_while_improving\n",
            "    nlp.update(\n",
            "  File \"c:\\Users\\Dhruv Thakkar\\AppData\\Local\\Programs\\Python\\Python311\\Lib\\site-packages\\spacy\\language.py\", line 1186, in update\n",
            "    proc.update(examples, sgd=None, losses=losses, **component_cfg[name])  # type: ignore\n",
            "    ^^^^^^^^^^^^^^^^^^^^^^^^^^^^^^^^^^^^^^^^^^^^^^^^^^^^^^^^^^^^^^^^^^^^^\n",
            "  File \"spacy\\pipeline\\transition_parser.pyx\", line 438, in spacy.pipeline.transition_parser.Parser.update\n",
            "  File \"spacy\\ml\\parser_model.pyx\", line 333, in spacy.ml.parser_model.ParserStepModel.finish_steps\n",
            "  File \"c:\\Users\\Dhruv Thakkar\\AppData\\Local\\Programs\\Python\\Python311\\Lib\\site-packages\\thinc\\layers\\chain.py\", line 60, in backprop\n",
            "    dX = callback(dY)\n",
            "         ^^^^^^^^^^^^\n",
            "  File \"c:\\Users\\Dhruv Thakkar\\AppData\\Local\\Programs\\Python\\Python311\\Lib\\site-packages\\spacy\\pipeline\\tok2vec.py\", line 183, in backprop\n",
            "    d_docs = bp_tokvecs(d_tokvecs)\n",
            "             ^^^^^^^^^^^^^^^^^^^^^\n",
            "  File \"c:\\Users\\Dhruv Thakkar\\AppData\\Local\\Programs\\Python\\Python311\\Lib\\site-packages\\thinc\\layers\\chain.py\", line 60, in backprop\n",
            "    dX = callback(dY)\n",
            "         ^^^^^^^^^^^^\n",
            "  File \"c:\\Users\\Dhruv Thakkar\\AppData\\Local\\Programs\\Python\\Python311\\Lib\\site-packages\\thinc\\layers\\with_array.py\", line 81, in backprop\n",
            "    dXf = get_dXf(dYf)\n",
            "          ^^^^^^^^^^^^\n",
            "  File \"c:\\Users\\Dhruv Thakkar\\AppData\\Local\\Programs\\Python\\Python311\\Lib\\site-packages\\thinc\\layers\\chain.py\", line 60, in backprop\n",
            "    dX = callback(dY)\n",
            "         ^^^^^^^^^^^^\n",
            "  File \"c:\\Users\\Dhruv Thakkar\\AppData\\Local\\Programs\\Python\\Python311\\Lib\\site-packages\\thinc\\layers\\residual.py\", line 30, in backprop\n",
            "    dX = backprop_layer(d_output)\n",
            "         ^^^^^^^^^^^^^^^^^^^^^^^^\n",
            "  File \"c:\\Users\\Dhruv Thakkar\\AppData\\Local\\Programs\\Python\\Python311\\Lib\\site-packages\\thinc\\layers\\chain.py\", line 60, in backprop\n",
            "    dX = callback(dY)\n",
            "         ^^^^^^^^^^^^\n",
            "  File \"c:\\Users\\Dhruv Thakkar\\AppData\\Local\\Programs\\Python\\Python311\\Lib\\site-packages\\thinc\\layers\\chain.py\", line 60, in backprop\n",
            "    dX = callback(dY)\n",
            "         ^^^^^^^^^^^^\n",
            "  File \"c:\\Users\\Dhruv Thakkar\\AppData\\Local\\Programs\\Python\\Python311\\Lib\\site-packages\\thinc\\layers\\chain.py\", line 60, in backprop\n",
            "    dX = callback(dY)\n",
            "         ^^^^^^^^^^^^\n",
            "  File \"c:\\Users\\Dhruv Thakkar\\AppData\\Local\\Programs\\Python\\Python311\\Lib\\site-packages\\thinc\\layers\\maxout.py\", line 64, in backprop\n",
            "    return model.ops.gemm(dY, model.ops.reshape2f(W, nO * nP, nI))\n",
            "           ^^^^^^^^^^^^^^^^^^^^^^^^^^^^^^^^^^^^^^^^^^^^^^^^^^^^^^^\n",
            "  File \"thinc\\backends\\numpy_ops.pyx\", line 103, in thinc.backends.numpy_ops.NumpyOps.gemm\n",
            "  File \"blis\\py.pyx\", line 79, in blis.py.gemm\n",
            "numpy.core._exceptions._ArrayMemoryError: Unable to allocate 1.61 MiB for an array with shape (549, 768) and data type float32\n",
            "\n",
            "During handling of the above exception, another exception occurred:\n",
            "\n",
            "Traceback (most recent call last):\n",
            "  File \"<frozen runpy>\", line 198, in _run_module_as_main\n",
            "  File \"<frozen runpy>\", line 88, in _run_code\n",
            "  File \"c:\\Users\\Dhruv Thakkar\\AppData\\Local\\Programs\\Python\\Python311\\Lib\\site-packages\\spacy\\__main__.py\", line 4, in <module>\n",
            "    setup_cli()\n",
            "  File \"c:\\Users\\Dhruv Thakkar\\AppData\\Local\\Programs\\Python\\Python311\\Lib\\site-packages\\spacy\\cli\\_util.py\", line 92, in setup_cli\n",
            "    command(prog_name=COMMAND)\n",
            "  File \"c:\\Users\\Dhruv Thakkar\\AppData\\Local\\Programs\\Python\\Python311\\Lib\\site-packages\\click\\core.py\", line 1157, in __call__\n",
            "    return self.main(*args, **kwargs)\n",
            "           ^^^^^^^^^^^^^^^^^^^^^^^^^^\n",
            "  File \"c:\\Users\\Dhruv Thakkar\\AppData\\Local\\Programs\\Python\\Python311\\Lib\\site-packages\\typer\\core.py\", line 778, in main\n",
            "    return _main(\n",
            "           ^^^^^^\n",
            "  File \"c:\\Users\\Dhruv Thakkar\\AppData\\Local\\Programs\\Python\\Python311\\Lib\\site-packages\\typer\\core.py\", line 216, in _main\n",
            "    rv = self.invoke(ctx)\n",
            "         ^^^^^^^^^^^^^^^^\n",
            "  File \"c:\\Users\\Dhruv Thakkar\\AppData\\Local\\Programs\\Python\\Python311\\Lib\\site-packages\\click\\core.py\", line 1688, in invoke\n",
            "    return _process_result(sub_ctx.command.invoke(sub_ctx))\n",
            "                           ^^^^^^^^^^^^^^^^^^^^^^^^^^^^^^^\n",
            "  File \"c:\\Users\\Dhruv Thakkar\\AppData\\Local\\Programs\\Python\\Python311\\Lib\\site-packages\\click\\core.py\", line 1434, in invoke\n",
            "    return ctx.invoke(self.callback, **ctx.params)\n",
            "           ^^^^^^^^^^^^^^^^^^^^^^^^^^^^^^^^^^^^^^^\n",
            "  File \"c:\\Users\\Dhruv Thakkar\\AppData\\Local\\Programs\\Python\\Python311\\Lib\\site-packages\\click\\core.py\", line 783, in invoke\n",
            "    return __callback(*args, **kwargs)\n",
            "           ^^^^^^^^^^^^^^^^^^^^^^^^^^^\n",
            "  File \"c:\\Users\\Dhruv Thakkar\\AppData\\Local\\Programs\\Python\\Python311\\Lib\\site-packages\\typer\\main.py\", line 683, in wrapper\n",
            "    return callback(**use_params)  # type: ignore\n",
            "           ^^^^^^^^^^^^^^^^^^^^^^\n",
            "  File \"c:\\Users\\Dhruv Thakkar\\AppData\\Local\\Programs\\Python\\Python311\\Lib\\site-packages\\spacy\\cli\\train.py\", line 54, in train_cli\n",
            "    train(config_path, output_path, use_gpu=use_gpu, overrides=overrides)\n",
            "  File \"c:\\Users\\Dhruv Thakkar\\AppData\\Local\\Programs\\Python\\Python311\\Lib\\site-packages\\spacy\\cli\\train.py\", line 84, in train\n",
            "    train_nlp(nlp, output_path, use_gpu=use_gpu, stdout=sys.stdout, stderr=sys.stderr)\n",
            "  File \"c:\\Users\\Dhruv Thakkar\\AppData\\Local\\Programs\\Python\\Python311\\Lib\\site-packages\\spacy\\training\\loop.py\", line 139, in train\n",
            "    save_checkpoint(False)\n",
            "  File \"c:\\Users\\Dhruv Thakkar\\AppData\\Local\\Programs\\Python\\Python311\\Lib\\site-packages\\spacy\\training\\loop.py\", line 79, in save_checkpoint\n",
            "    before_to_disk(nlp).to_disk(output_path / DIR_MODEL_LAST)\n",
            "  File \"c:\\Users\\Dhruv Thakkar\\AppData\\Local\\Programs\\Python\\Python311\\Lib\\site-packages\\spacy\\language.py\", line 2066, in to_disk\n",
            "    util.to_disk(path, serializers, exclude)\n",
            "  File \"c:\\Users\\Dhruv Thakkar\\AppData\\Local\\Programs\\Python\\Python311\\Lib\\site-packages\\spacy\\util.py\", line 1379, in to_disk\n",
            "    writer(path / key)\n",
            "  File \"c:\\Users\\Dhruv Thakkar\\AppData\\Local\\Programs\\Python\\Python311\\Lib\\site-packages\\spacy\\language.py\", line 2054, in <lambda>\n",
            "    serializers[\"tokenizer\"] = lambda p: self.tokenizer.to_disk(  # type: ignore[union-attr]\n",
            "                                         ^^^^^^^^^^^^^^^^^^^^^^^^^^^^^^^^^^^^^^^^^^^^^^^^^^^\n",
            "  File \"spacy\\tokenizer.pyx\", line 755, in spacy.tokenizer.Tokenizer.to_disk\n",
            "  File \"spacy\\tokenizer.pyx\", line 756, in spacy.tokenizer.Tokenizer.to_disk\n",
            "  File \"spacy\\tokenizer.pyx\", line 792, in spacy.tokenizer.Tokenizer.to_bytes\n",
            "  File \"c:\\Users\\Dhruv Thakkar\\AppData\\Local\\Programs\\Python\\Python311\\Lib\\site-packages\\spacy\\util.py\", line 1334, in to_bytes\n",
            "    return srsly.msgpack_dumps(to_dict(getters, exclude))\n",
            "           ^^^^^^^^^^^^^^^^^^^^^^^^^^^^^^^^^^^^^^^^^^^^^^\n",
            "  File \"c:\\Users\\Dhruv Thakkar\\AppData\\Local\\Programs\\Python\\Python311\\Lib\\site-packages\\srsly\\_msgpack_api.py\", line 14, in msgpack_dumps\n",
            "    return msgpack.dumps(data, use_bin_type=True)\n",
            "           ^^^^^^^^^^^^^^^^^^^^^^^^^^^^^^^^^^^^^^\n",
            "  File \"c:\\Users\\Dhruv Thakkar\\AppData\\Local\\Programs\\Python\\Python311\\Lib\\site-packages\\srsly\\msgpack\\__init__.py\", line 55, in packb\n",
            "    return Packer(**kwargs).pack(o)\n",
            "           ^^^^^^^^^^^^^^^^\n",
            "  File \"srsly\\msgpack\\_packer.pyx\", line 112, in srsly.msgpack._packer.Packer.__cinit__\n",
            "MemoryError: Unable to allocate internal buffer.\n"
          ]
        }
      ],
      "source": [
        "!python -m spacy train ./config.cfg --output ./model --paths.train ./Datasets/typeA_B_train_dataset.spacy --paths.dev ./Datasets/typeA_B_test_dataset.spacy"
      ]
    },
    {
      "cell_type": "code",
      "execution_count": null,
      "metadata": {
        "colab": {
          "base_uri": "https://localhost:8080/"
        },
        "id": "8X3hBkwLaH_k",
        "outputId": "3f13040e-1fe7-46e5-c023-27fed00bdf4b"
      },
      "outputs": [],
      "source": [
        "from google.colab import drive\n",
        "drive.mount('/content/gdrive')"
      ]
    },
    {
      "cell_type": "code",
      "execution_count": 19,
      "metadata": {
        "id": "h2ad4mgqcsQ5"
      },
      "outputs": [],
      "source": [
        "nlp_ner = spacy.load(\"./model/model-best\")"
      ]
    },
    {
      "cell_type": "code",
      "execution_count": null,
      "metadata": {
        "id": "gXSh53yznsq3"
      },
      "outputs": [],
      "source": [
        "!ls /content/gdrive/MyDrive/Saved\\ Models/typeA_model/"
      ]
    },
    {
      "cell_type": "code",
      "execution_count": null,
      "metadata": {
        "id": "hzIkKpxmnpnV"
      },
      "outputs": [],
      "source": [
        "nlp_ner.to_disk(\"/content/gdrive/MyDrive/Saved\\ Models/typeA_model/\")"
      ]
    },
    {
      "cell_type": "code",
      "execution_count": 20,
      "metadata": {},
      "outputs": [
        {
          "name": "stdout",
          "output_type": "stream",
          "text": [
            "['Integrate the Contact List into cell A3', 'append 60 to cell E4', \"affix ' Budget Summary ' at cell C5\", 'introduce 10 at cell A8']\n"
          ]
        }
      ],
      "source": [
        "nlp = spacy.load(\"en_core_web_sm\")\n",
        "\n",
        "# Input paragraph\n",
        "#input_text = \"I want to set cell A1 to the value 20, and then put 50 into cell B3.\"\n",
        "#input_text = \"Assign 'Inventory' to cell E9, fill cell C7 with 'Project Deadline', insert 500 at cell F2, and write 'Customer Names' in cell A3\"\n",
        "#input_text = \"Please ensure that 'Product Inventory' is typed in cell G2, input 'Expense Report' into cell D9, and fill cell G1 with the 'Task List'.\"\n",
        "input_text = \"Integrate the Contact List into cell A3, append 60 to cell E4, affix 'Budget Summary' at cell C5, and introduce 10 at cell A8\"\n",
        "#input_text = \"Delete A\"\n",
        "\n",
        "\n",
        "# Tokenize and process the input text\n",
        "doc = nlp(input_text)\n",
        "\n",
        "# Initialize a list to store sentences\n",
        "sentences = []\n",
        "\n",
        "# Keywords to split sentences\n",
        "split_keywords = [\"and\", \"or\", \"then\", \"but\", \",\"]\n",
        "\n",
        "current_sentence = \"\"\n",
        "\n",
        "for token in doc:\n",
        "    if token.text in split_keywords:\n",
        "        if current_sentence:\n",
        "            sentences.append(current_sentence.strip())\n",
        "        current_sentence = \"\"\n",
        "    else:\n",
        "        current_sentence += \" \" + token.text\n",
        "\n",
        "# Add the last sentence\n",
        "if current_sentence:\n",
        "    sentences.append(current_sentence.strip())\n",
        "\n",
        "# Now 'sentences' is a list of separated sentences that you can use with your model\n",
        "# Print the separated sentences\n",
        "#for i, sentence in enumerate(sentences, start=1):\n",
        "    #print(f\"Sentence {i}: {sentence}\")\n",
        "\n",
        "print(sentences)"
      ]
    },
    {
      "cell_type": "code",
      "execution_count": 6,
      "metadata": {
        "colab": {
          "base_uri": "https://localhost:8080/",
          "height": 245
        },
        "id": "fHpCNVoN4a46",
        "outputId": "a6323749-20d3-4b7d-b539-bd7a4b4cae90"
      },
      "outputs": [],
      "source": [
        "def concat_instruction(type, cells, values):\n",
        "  for t in type:\n",
        "    print(t)\n",
        "    if t==\"TYPE A\":\n",
        "      # the sentence is of INSERT\n",
        "\n",
        "      cmd = \"Insert \" + str(cells[0]) + \" \"+ str(values[0])\n",
        "      print(cmd)\n",
        "    elif t==\"TYPE B\":\n",
        "      # the sentence is of type delete\n",
        "      cmd = \"Delete \" + str(cells[0])\n",
        "      print(cmd)\n"
      ]
    },
    {
      "cell_type": "code",
      "execution_count": 21,
      "metadata": {},
      "outputs": [
        {
          "name": "stdout",
          "output_type": "stream",
          "text": [
            "Integrate the Contact List into cell A3\n",
            "TYPE A\n",
            "Insert A3 Contact List\n",
            "append 60 to cell E4\n",
            "TYPE A\n",
            "Insert E4 60\n",
            "affix ' Budget Summary ' at cell C5\n",
            "TYPE A\n",
            "Insert C5 ' Budget\n",
            "introduce 10 at cell A8\n",
            "TYPE A\n",
            "Insert A8 10\n"
          ]
        }
      ],
      "source": [
        "# Assuming 'nlp_ner' is custom-trained spaCy NER model\n",
        "\n",
        "for sentence in sentences:\n",
        "  print(sentence)\n",
        "  values = []\n",
        "  cells = []\n",
        "  type =[]\n",
        "\n",
        "  doc = nlp_ner(sentence)\n",
        "  for ent in doc.ents:\n",
        "    if ent.label_ == \"VALUE\":\n",
        "        values.append(ent.text)\n",
        "    elif (ent.label_ == \"TYPE A\" or ent.label_ == \"TYPE B\" or ent.label_ == \"TYPE C\"):\n",
        "        type.append(ent.label_)\n",
        "    elif ent.label_ == \"CELL\":\n",
        "        cells.append(ent.text)\n",
        "  concat_instruction(type, cells, values)"
      ]
    },
    {
      "cell_type": "code",
      "execution_count": null,
      "metadata": {},
      "outputs": [],
      "source": []
    },
    {
      "cell_type": "code",
      "execution_count": null,
      "metadata": {},
      "outputs": [],
      "source": []
    }
  ],
  "metadata": {
    "colab": {
      "provenance": []
    },
    "kernelspec": {
      "display_name": "Python 3",
      "name": "python3"
    },
    "language_info": {
      "codemirror_mode": {
        "name": "ipython",
        "version": 3
      },
      "file_extension": ".py",
      "mimetype": "text/x-python",
      "name": "python",
      "nbconvert_exporter": "python",
      "pygments_lexer": "ipython3",
      "version": "3.11.0"
    }
  },
  "nbformat": 4,
  "nbformat_minor": 0
}
