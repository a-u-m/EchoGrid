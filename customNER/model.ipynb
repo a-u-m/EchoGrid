{
  "cells": [
    {
      "cell_type": "code",
      "execution_count": 3,
      "metadata": {
        "colab": {
          "background_save": true
        },
        "id": "7dqWS4VozD-9"
      },
      "outputs": [],
      "source": [
        "import spacy\n",
        "from spacy.tokens import DocBin\n",
        "from tqdm import tqdm\n",
        "\n",
        "nlp = spacy.blank(\"en\") # load a new spacy model\n",
        "db = DocBin() # create a DocBin object"
      ]
    },
    {
      "cell_type": "markdown",
      "metadata": {
        "id": "_Ofwgj4eTIwT"
      },
      "source": [
        "# New Section"
      ]
    },
    {
      "cell_type": "code",
      "execution_count": 13,
      "metadata": {
        "colab": {
          "base_uri": "https://localhost:8080/"
        },
        "id": "--aCr9ZazlVG",
        "outputId": "77011870-44b4-45cd-92da-dc5860f82a6d"
      },
      "outputs": [
        {
          "ename": "SyntaxError",
          "evalue": "invalid syntax (3314425438.py, line 1)",
          "output_type": "error",
          "traceback": [
            "\u001b[1;36m  Cell \u001b[1;32mIn[13], line 1\u001b[1;36m\u001b[0m\n\u001b[1;33m    python -m spacy download en_core_web_lg\u001b[0m\n\u001b[1;37m              ^\u001b[0m\n\u001b[1;31mSyntaxError\u001b[0m\u001b[1;31m:\u001b[0m invalid syntax\n"
          ]
        }
      ],
      "source": [
        "!python -m spacy download en_core_web_lg"
      ]
    },
    {
      "cell_type": "code",
      "execution_count": 5,
      "metadata": {
        "id": "bYOlOX_QFI9u"
      },
      "outputs": [],
      "source": [
        "import json\n",
        "f1 = open('./Datasets/typeA_B_train_dataset.json')\n",
        "f2 = open('./Datasets/typeA_B_test_dataset.json')\n",
        "\n",
        "TRAIN_DATA = json.load(f1)\n",
        "TEST_DATA = json.load(f2)\n"
      ]
    },
    {
      "cell_type": "code",
      "execution_count": 6,
      "metadata": {
        "colab": {
          "base_uri": "https://localhost:8080/"
        },
        "id": "pj6L8jyRFCW-",
        "outputId": "d3a0653d-c689-4967-929e-7c6fd5374bb6"
      },
      "outputs": [
        {
          "name": "stderr",
          "output_type": "stream",
          "text": [
            "100%|██████████| 92/92 [00:00<00:00, 6892.98it/s]\n"
          ]
        }
      ],
      "source": [
        "for text, annot in tqdm(TRAIN_DATA['annotations']):\n",
        "    doc = nlp.make_doc(text)\n",
        "    ents = []\n",
        "    for start, end, label in annot[\"entities\"]:\n",
        "        span = doc.char_span(start,end,label=label, alignment_mode=\"contract\")\n",
        "        if span is None:\n",
        "            print(\"Skipping entity\")\n",
        "        else:\n",
        "            ents.append(span)\n",
        "    doc.ents = ents\n",
        "    db.add(doc)\n",
        "db.to_disk(\"./Datasets/typeA_B_train_dataset.spacy\")"
      ]
    },
    {
      "cell_type": "code",
      "execution_count": 7,
      "metadata": {
        "colab": {
          "base_uri": "https://localhost:8080/"
        },
        "id": "QfIpTmCZFCKo",
        "outputId": "0e6f42f8-3086-47fc-f942-e99f398e605e"
      },
      "outputs": [
        {
          "name": "stderr",
          "output_type": "stream",
          "text": [
            "100%|██████████| 15/15 [00:00<00:00, 5935.34it/s]"
          ]
        },
        {
          "name": "stdout",
          "output_type": "stream",
          "text": [
            "Skipping entity\n",
            "Skipping entity\n"
          ]
        },
        {
          "name": "stderr",
          "output_type": "stream",
          "text": [
            "\n"
          ]
        }
      ],
      "source": [
        "for text, annot in tqdm(TEST_DATA['annotations']):\n",
        "    doc = nlp.make_doc(text)\n",
        "    ents = []\n",
        "    for start, end, label in annot[\"entities\"]:\n",
        "        span = doc.char_span(start,end,label=label, alignment_mode=\"contract\")\n",
        "        if span is None:\n",
        "            print(\"Skipping entity\")\n",
        "        else:\n",
        "            ents.append(span)\n",
        "    doc.ents = ents\n",
        "    db.add(doc)\n",
        "db.to_disk(\"./Datasets/typeA_B_test_dataset.spacy\")"
      ]
    },
    {
      "cell_type": "code",
      "execution_count": 8,
      "metadata": {
        "colab": {
          "background_save": true,
          "base_uri": "https://localhost:8080/"
        },
        "id": "8Fy8m5Srza1n",
        "outputId": "f8e7c77e-3b7f-45b0-f72c-e467375f6e1e"
      },
      "outputs": [
        {
          "name": "stdout",
          "output_type": "stream",
          "text": [
            "\u001b[38;5;4mℹ Saving to output directory: model\u001b[0m\n",
            "\u001b[38;5;4mℹ Using CPU\u001b[0m\n",
            "\u001b[1m\n",
            "=========================== Initializing pipeline ===========================\u001b[0m\n"
          ]
        },
        {
          "name": "stderr",
          "output_type": "stream",
          "text": [
            "Traceback (most recent call last):\n",
            "  File \"c:\\Users\\divjh\\AppData\\Local\\Programs\\Python\\Python310\\lib\\site-packages\\spacy\\language.py\", line 1327, in initialize\n",
            "    init_vocab(\n",
            "  File \"c:\\Users\\divjh\\AppData\\Local\\Programs\\Python\\Python310\\lib\\site-packages\\spacy\\training\\initialize.py\", line 142, in init_vocab\n",
            "    load_vectors_into_model(nlp, vectors)\n",
            "  File \"c:\\Users\\divjh\\AppData\\Local\\Programs\\Python\\Python310\\lib\\site-packages\\spacy\\training\\initialize.py\", line 164, in load_vectors_into_model\n",
            "    vectors_nlp = load_model(name, vocab=nlp.vocab, exclude=exclude)\n",
            "  File \"c:\\Users\\divjh\\AppData\\Local\\Programs\\Python\\Python310\\lib\\site-packages\\spacy\\util.py\", line 472, in load_model\n",
            "    raise IOError(Errors.E050.format(name=name))\n",
            "OSError: [E050] Can't find model 'en_core_web_lg'. It doesn't seem to be a Python package or a valid path to a data directory.\n",
            "\n",
            "During handling of the above exception, another exception occurred:\n",
            "\n",
            "Traceback (most recent call last):\n",
            "  File \"c:\\Users\\divjh\\AppData\\Local\\Programs\\Python\\Python310\\lib\\runpy.py\", line 196, in _run_module_as_main\n",
            "    return _run_code(code, main_globals, None,\n",
            "  File \"c:\\Users\\divjh\\AppData\\Local\\Programs\\Python\\Python310\\lib\\runpy.py\", line 86, in _run_code\n",
            "    exec(code, run_globals)\n",
            "  File \"c:\\Users\\divjh\\AppData\\Local\\Programs\\Python\\Python310\\lib\\site-packages\\spacy\\__main__.py\", line 4, in <module>\n",
            "    setup_cli()\n",
            "  File \"c:\\Users\\divjh\\AppData\\Local\\Programs\\Python\\Python310\\lib\\site-packages\\spacy\\cli\\_util.py\", line 87, in setup_cli\n",
            "    command(prog_name=COMMAND)\n",
            "  File \"c:\\Users\\divjh\\AppData\\Local\\Programs\\Python\\Python310\\lib\\site-packages\\click\\core.py\", line 1157, in __call__\n",
            "    return self.main(*args, **kwargs)\n",
            "  File \"c:\\Users\\divjh\\AppData\\Local\\Programs\\Python\\Python310\\lib\\site-packages\\typer\\core.py\", line 778, in main\n",
            "    return _main(\n",
            "  File \"c:\\Users\\divjh\\AppData\\Local\\Programs\\Python\\Python310\\lib\\site-packages\\typer\\core.py\", line 216, in _main\n",
            "    rv = self.invoke(ctx)\n",
            "  File \"c:\\Users\\divjh\\AppData\\Local\\Programs\\Python\\Python310\\lib\\site-packages\\click\\core.py\", line 1688, in invoke\n",
            "    return _process_result(sub_ctx.command.invoke(sub_ctx))\n",
            "  File \"c:\\Users\\divjh\\AppData\\Local\\Programs\\Python\\Python310\\lib\\site-packages\\click\\core.py\", line 1434, in invoke\n",
            "    return ctx.invoke(self.callback, **ctx.params)\n",
            "  File \"c:\\Users\\divjh\\AppData\\Local\\Programs\\Python\\Python310\\lib\\site-packages\\click\\core.py\", line 783, in invoke\n",
            "    return __callback(*args, **kwargs)\n",
            "  File \"c:\\Users\\divjh\\AppData\\Local\\Programs\\Python\\Python310\\lib\\site-packages\\typer\\main.py\", line 683, in wrapper\n",
            "    return callback(**use_params)  # type: ignore\n",
            "  File \"c:\\Users\\divjh\\AppData\\Local\\Programs\\Python\\Python310\\lib\\site-packages\\spacy\\cli\\train.py\", line 54, in train_cli\n",
            "    train(config_path, output_path, use_gpu=use_gpu, overrides=overrides)\n",
            "  File \"c:\\Users\\divjh\\AppData\\Local\\Programs\\Python\\Python310\\lib\\site-packages\\spacy\\cli\\train.py\", line 81, in train\n",
            "    nlp = init_nlp(config, use_gpu=use_gpu)\n",
            "  File \"c:\\Users\\divjh\\AppData\\Local\\Programs\\Python\\Python310\\lib\\site-packages\\spacy\\training\\initialize.py\", line 95, in init_nlp\n",
            "    nlp.initialize(lambda: train_corpus(nlp), sgd=optimizer)\n",
            "  File \"c:\\Users\\divjh\\AppData\\Local\\Programs\\Python\\Python310\\lib\\site-packages\\spacy\\language.py\", line 1331, in initialize\n",
            "    raise IOError(Errors.E884.format(vectors=I[\"vectors\"]))\n",
            "OSError: [E884] The pipeline could not be initialized because the vectors could not be found at 'en_core_web_lg'. If your pipeline was already initialized/trained before, call 'resume_training' instead of 'initialize', or initialize only the components that are new.\n"
          ]
        }
      ],
      "source": [
        "!python -m spacy train ./config.cfg --output ./model --paths.train ./Datasets/typeA_B_train_dataset.spacy --paths.dev ./Datasets/typeA_B_test_dataset.spacy"
      ]
    },
    {
      "cell_type": "code",
      "execution_count": 9,
      "metadata": {
        "colab": {
          "base_uri": "https://localhost:8080/"
        },
        "id": "8X3hBkwLaH_k",
        "outputId": "3f13040e-1fe7-46e5-c023-27fed00bdf4b"
      },
      "outputs": [
        {
          "ename": "ModuleNotFoundError",
          "evalue": "No module named 'google.colab'",
          "output_type": "error",
          "traceback": [
            "\u001b[1;31m---------------------------------------------------------------------------\u001b[0m",
            "\u001b[1;31mModuleNotFoundError\u001b[0m                       Traceback (most recent call last)",
            "\u001b[1;32md:\\EDI_5th_sem\\EchoGrid\\customNER\\model.ipynb Cell 8\u001b[0m line \u001b[0;36m1\n\u001b[1;32m----> <a href='vscode-notebook-cell:/d%3A/EDI_5th_sem/EchoGrid/customNER/model.ipynb#X10sZmlsZQ%3D%3D?line=0'>1</a>\u001b[0m \u001b[39mfrom\u001b[39;00m \u001b[39mgoogle\u001b[39;00m\u001b[39m.\u001b[39;00m\u001b[39mcolab\u001b[39;00m \u001b[39mimport\u001b[39;00m drive\n\u001b[0;32m      <a href='vscode-notebook-cell:/d%3A/EDI_5th_sem/EchoGrid/customNER/model.ipynb#X10sZmlsZQ%3D%3D?line=1'>2</a>\u001b[0m drive\u001b[39m.\u001b[39mmount(\u001b[39m'\u001b[39m\u001b[39m/content/gdrive\u001b[39m\u001b[39m'\u001b[39m)\n",
            "\u001b[1;31mModuleNotFoundError\u001b[0m: No module named 'google.colab'"
          ]
        }
      ],
      "source": [
        "from google.colab import drive\n",
        "drive.mount('/content/gdrive')"
      ]
    },
    {
      "cell_type": "code",
      "execution_count": null,
      "metadata": {
        "id": "h2ad4mgqcsQ5"
      },
      "outputs": [],
      "source": [
        "nlp_ner = spacy.load(\"./model/model-best\")"
      ]
    },
    {
      "cell_type": "code",
      "execution_count": null,
      "metadata": {
        "id": "gXSh53yznsq3"
      },
      "outputs": [],
      "source": [
        "!ls /content/gdrive/MyDrive/Saved\\ Models/typeA_model/"
      ]
    },
    {
      "cell_type": "code",
      "execution_count": null,
      "metadata": {
        "id": "hzIkKpxmnpnV"
      },
      "outputs": [],
      "source": [
        "nlp_ner.to_disk(\"/content/gdrive/MyDrive/Saved\\ Models/typeA_model/\")"
      ]
    },
    {
      "cell_type": "code",
      "execution_count": null,
      "metadata": {},
      "outputs": [],
      "source": []
    },
    {
      "cell_type": "code",
      "execution_count": null,
      "metadata": {
        "colab": {
          "base_uri": "https://localhost:8080/",
          "height": 245
        },
        "id": "fHpCNVoN4a46",
        "outputId": "a6323749-20d3-4b7d-b539-bd7a4b4cae90"
      },
      "outputs": [
        {
          "ename": "OSError",
          "evalue": "[E050] Can't find model '/Users/om/Projects/Chrome Extensions/EchoGrid/model/model-best'. It doesn't seem to be a Python package or a valid path to a data directory.",
          "output_type": "error",
          "traceback": [
            "\u001b[0;31m---------------------------------------------------------------------------\u001b[0m",
            "\u001b[0;31mOSError\u001b[0m                                   Traceback (most recent call last)",
            "\u001b[1;32m/Users/om/Projects/Chrome Extensions/EchoGrid/customNER/model.ipynb Cell 13\u001b[0m line \u001b[0;36m9\n\u001b[1;32m      <a href='vscode-notebook-cell:/Users/om/Projects/Chrome%20Extensions/EchoGrid/customNER/model.ipynb#X15sZmlsZQ%3D%3D?line=6'>7</a>\u001b[0m \u001b[39m# Load your custom-trained spaCy NER model\u001b[39;00m\n\u001b[1;32m      <a href='vscode-notebook-cell:/Users/om/Projects/Chrome%20Extensions/EchoGrid/customNER/model.ipynb#X15sZmlsZQ%3D%3D?line=7'>8</a>\u001b[0m model_path \u001b[39m=\u001b[39m os\u001b[39m.\u001b[39mpath\u001b[39m.\u001b[39mabspath(\u001b[39m\"\u001b[39m\u001b[39m../model/model-best\u001b[39m\u001b[39m\"\u001b[39m)\n\u001b[0;32m----> <a href='vscode-notebook-cell:/Users/om/Projects/Chrome%20Extensions/EchoGrid/customNER/model.ipynb#X15sZmlsZQ%3D%3D?line=8'>9</a>\u001b[0m nlp_ner \u001b[39m=\u001b[39m spacy\u001b[39m.\u001b[39;49mload(model_path)\n\u001b[1;32m     <a href='vscode-notebook-cell:/Users/om/Projects/Chrome%20Extensions/EchoGrid/customNER/model.ipynb#X15sZmlsZQ%3D%3D?line=10'>11</a>\u001b[0m \u001b[39mdef\u001b[39;00m \u001b[39mextract_entities\u001b[39m(text):\n\u001b[1;32m     <a href='vscode-notebook-cell:/Users/om/Projects/Chrome%20Extensions/EchoGrid/customNER/model.ipynb#X15sZmlsZQ%3D%3D?line=11'>12</a>\u001b[0m     values \u001b[39m=\u001b[39m []\n",
            "File \u001b[0;32m~/.pyenv/versions/3.11.5/lib/python3.11/site-packages/spacy/__init__.py:51\u001b[0m, in \u001b[0;36mload\u001b[0;34m(name, vocab, disable, enable, exclude, config)\u001b[0m\n\u001b[1;32m     27\u001b[0m \u001b[39mdef\u001b[39;00m \u001b[39mload\u001b[39m(\n\u001b[1;32m     28\u001b[0m     name: Union[\u001b[39mstr\u001b[39m, Path],\n\u001b[1;32m     29\u001b[0m     \u001b[39m*\u001b[39m,\n\u001b[0;32m   (...)\u001b[0m\n\u001b[1;32m     34\u001b[0m     config: Union[Dict[\u001b[39mstr\u001b[39m, Any], Config] \u001b[39m=\u001b[39m util\u001b[39m.\u001b[39mSimpleFrozenDict(),\n\u001b[1;32m     35\u001b[0m ) \u001b[39m-\u001b[39m\u001b[39m>\u001b[39m Language:\n\u001b[1;32m     36\u001b[0m \u001b[39m    \u001b[39m\u001b[39m\"\"\"Load a spaCy model from an installed package or a local path.\u001b[39;00m\n\u001b[1;32m     37\u001b[0m \n\u001b[1;32m     38\u001b[0m \u001b[39m    name (str): Package name or model path.\u001b[39;00m\n\u001b[0;32m   (...)\u001b[0m\n\u001b[1;32m     49\u001b[0m \u001b[39m    RETURNS (Language): The loaded nlp object.\u001b[39;00m\n\u001b[1;32m     50\u001b[0m \u001b[39m    \"\"\"\u001b[39;00m\n\u001b[0;32m---> 51\u001b[0m     \u001b[39mreturn\u001b[39;00m util\u001b[39m.\u001b[39;49mload_model(\n\u001b[1;32m     52\u001b[0m         name,\n\u001b[1;32m     53\u001b[0m         vocab\u001b[39m=\u001b[39;49mvocab,\n\u001b[1;32m     54\u001b[0m         disable\u001b[39m=\u001b[39;49mdisable,\n\u001b[1;32m     55\u001b[0m         enable\u001b[39m=\u001b[39;49menable,\n\u001b[1;32m     56\u001b[0m         exclude\u001b[39m=\u001b[39;49mexclude,\n\u001b[1;32m     57\u001b[0m         config\u001b[39m=\u001b[39;49mconfig,\n\u001b[1;32m     58\u001b[0m     )\n",
            "File \u001b[0;32m~/.pyenv/versions/3.11.5/lib/python3.11/site-packages/spacy/util.py:472\u001b[0m, in \u001b[0;36mload_model\u001b[0;34m(name, vocab, disable, enable, exclude, config)\u001b[0m\n\u001b[1;32m    470\u001b[0m \u001b[39mif\u001b[39;00m name \u001b[39min\u001b[39;00m OLD_MODEL_SHORTCUTS:\n\u001b[1;32m    471\u001b[0m     \u001b[39mraise\u001b[39;00m \u001b[39mIOError\u001b[39;00m(Errors\u001b[39m.\u001b[39mE941\u001b[39m.\u001b[39mformat(name\u001b[39m=\u001b[39mname, full\u001b[39m=\u001b[39mOLD_MODEL_SHORTCUTS[name]))  \u001b[39m# type: ignore[index]\u001b[39;00m\n\u001b[0;32m--> 472\u001b[0m \u001b[39mraise\u001b[39;00m \u001b[39mIOError\u001b[39;00m(Errors\u001b[39m.\u001b[39mE050\u001b[39m.\u001b[39mformat(name\u001b[39m=\u001b[39mname))\n",
            "\u001b[0;31mOSError\u001b[0m: [E050] Can't find model '/Users/om/Projects/Chrome Extensions/EchoGrid/model/model-best'. It doesn't seem to be a Python package or a valid path to a data directory."
          ]
        }
      ],
      "source": []
    },
    {
      "cell_type": "code",
      "execution_count": null,
      "metadata": {
        "colab": {
          "base_uri": "https://localhost:8080/"
        },
        "id": "4mOglqDugZ0A",
        "outputId": "40298da9-afd4-435c-e3ac-51b94adad4d3"
      },
      "outputs": [],
      "source": [
        "# Concatation trial\n",
        "\n",
        "cmd = \"Insert \" + str(cells[0]) + \" \"+ str(values[0])\n",
        "\n",
        "print(cmd)"
      ]
    },
    {
      "cell_type": "code",
      "execution_count": null,
      "metadata": {
        "colab": {
          "base_uri": "https://localhost:8080/"
        },
        "id": "cFYr8s7tfyRp",
        "outputId": "514d4ae4-2cee-45eb-94d3-94913b610f6c"
      },
      "outputs": [],
      "source": [
        "# code to create the final instruction for the Google Sheet API\n",
        "\n",
        "\n",
        "for t in type:\n",
        "  print(t)\n",
        "  if t==\"TYPE A\":\n",
        "    # the sentence is of INSERT\n",
        "\n",
        "    cmd = \"Insert \" + str(cells[0]) + \" \"+ str(values[0])\n",
        "    print(cmd)\n",
        "  elif t==\"TYPE B\":\n",
        "    # the sentence is of type delete\n",
        "    cmd = \"Delete \" + str(cells[0])\n",
        "    print(cmd)\n"
      ]
    },
    {
      "cell_type": "code",
      "execution_count": null,
      "metadata": {},
      "outputs": [],
      "source": []
    },
    {
      "cell_type": "code",
      "execution_count": null,
      "metadata": {},
      "outputs": [],
      "source": []
    }
  ],
  "metadata": {
    "colab": {
      "provenance": []
    },
    "kernelspec": {
      "display_name": "Python 3",
      "name": "python3"
    },
    "language_info": {
      "codemirror_mode": {
        "name": "ipython",
        "version": 3
      },
      "file_extension": ".py",
      "mimetype": "text/x-python",
      "name": "python",
      "nbconvert_exporter": "python",
      "pygments_lexer": "ipython3",
      "version": "3.10.6"
    }
  },
  "nbformat": 4,
  "nbformat_minor": 0
}
